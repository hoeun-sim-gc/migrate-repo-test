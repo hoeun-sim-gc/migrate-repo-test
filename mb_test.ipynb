{
 "cells": [
  {
   "cell_type": "markdown",
   "metadata": {},
   "source": [
    "# Start"
   ]
  },
  {
   "cell_type": "code",
   "execution_count": 1,
   "metadata": {},
   "outputs": [],
   "source": [
    "from datetime import datetime\n",
    "import numpy as np\n",
    "import pandas as pd\n",
    "import pyodbc\n",
    "\n",
    "from pat_back import PAT_FLAG, VALIDATE_RULE, COVERAGE_TYPE, PERIL_SUBGROUP, DEDDUCT_TYPE, RATING_TYPE, PSOLD_PERSP\n",
    "from pat_back import PsoldRating, FlsRating, MbRating\n",
    "\n",
    "fld = r\"C:\\Users\\cxiao\\source\\repos\\property-exposure\\gcpropexpo\\GCPropExpo\\tests\\testthat\"\n",
    "df_loc = pd.read_csv(f'{fld}/Inputs/PATLocations.csv')\n",
    "df_loc['LOCID'] = df_loc.index +1\n",
    "df_pol = pd.read_csv(f'{fld}/Inputs/PATPolicies.csv')\n",
    "df_res = pd.read_csv(f'{fld}/Controls/PAT_Ans.csv')\n",
    "\n",
    "DT = df_pol.merge(df_loc, on='Policy ID')\n",
    "DT.columns=['PolicyID', 'Limit', 'Retention', 'PolPrem', 'LossRatio', 'Participation', 'TIV', 'Stack', 'RatingGroup', 'LOCID']\n"
   ]
  },
  {
   "cell_type": "markdown",
   "metadata": {},
   "source": [
    "\n",
    "### Input Parameters"
   ]
  },
  {
   "cell_type": "code",
   "execution_count": 2,
   "metadata": {},
   "outputs": [],
   "source": [
    "# test_that(\"Accuracy\", {\n",
    "#   loc <- fread('./Inputs/PATLocations.csv')\n",
    "#   pol <- fread('./Inputs/PATPolicies.csv')\n",
    "#   loc$`Rating Grp`[20] <- 58L\n",
    "#   covgInfo <- list(subPrem = 5e6,\n",
    "#                    ratio = 0.8,\n",
    "#                    adCvg = 0,\n",
    "#                    dedType = 1L,\n",
    "#                    curveID = 58L,\n",
    "#                    b = 0.665396581,\n",
    "#                    g = 131.7850411,\n",
    "#                    customType = 1L,\n",
    "#                    type = 'mb')\n",
    "#   correctAns <- masterAns[TEST == 'MB1', .(LOCID, PREMIUM)]\n",
    "#   testResults <- PAT(pol, loc, covgInfo)\n",
    "#   expect_equal(testResults$allocPrem, correctAns$PREMIUM, tolerance = tol)\n",
    "# })\n",
    "\n",
    "ratio = 0.8\n",
    "covg = COVERAGE_TYPE['Building_Contents_BI']\n",
    "adCvg = 0\n",
    "dedType = DEDDUCT_TYPE['Retains_Limit']\n",
    "curveID = 58\n",
    "customType = 1\n",
    "test = 'MB1'\n",
    "para = {\n",
    "    'b' : 0.665396581,\n",
    "    'g' : 131.7850411\n",
    "}\n",
    "\n",
    "DT.fillna({'LossRatio': ratio}, inplace=True)"
   ]
  },
  {
   "cell_type": "markdown",
   "metadata": {},
   "source": [
    "### Curve data"
   ]
  },
  {
   "cell_type": "code",
   "execution_count": 23,
   "metadata": {},
   "outputs": [],
   "source": [
    "conn_str = f'''DRIVER={{SQL Server}};Server=dfwcat-pm;Database=premium_allocation_tool;\n",
    "            User Id=sa;Password=In5tr@t1;MultipleActiveResultSets=true;'''\n",
    "with pyodbc.connect(conn_str) as conn:\n",
    "     df_mb = pd.read_sql_query(f\"\"\"select ID, b, g, cap from mb_curves order by ID\"\"\", conn).set_index('ID')\n",
    "\n",
    "if para: \n",
    "     df_mb.loc[curveID] = df_mb.loc[curveID].to_dict() | para"
   ]
  },
  {
   "cell_type": "code",
   "execution_count": 27,
   "metadata": {},
   "outputs": [],
   "source": [
    "p ={}\n",
    "if p:\n",
    "    print('aaa')"
   ]
  },
  {
   "cell_type": "markdown",
   "metadata": {},
   "source": [
    "### Allocation"
   ]
  },
  {
   "cell_type": "code",
   "execution_count": null,
   "metadata": {},
   "outputs": [],
   "source": [
    "rating_model = MbRating(curveID, df_mb, **para)\n",
    "DT = rating_model.calculate_las(DT, addt_cvg = adCvg, ded_type = dedType.name, custom_type = customType )\n",
    "\n",
    "DT['Premium'] = (DT.PolLAS-DT.DedLAS) * DT.LossRatio \n",
    "sumLAS = DT.groupby('PolicyID').agg( \n",
    "    {'Premium': 'sum'}).rename(columns={'Premium': 'sumLAS'})\n",
    "DT = DT.merge(sumLAS, on='PolicyID')\n",
    "DT['Premium'] *= DT['PolPrem'] / DT['sumLAS']\n",
    "DT.fillna({'Premium':0},inplace=True)\n"
   ]
  },
  {
   "cell_type": "markdown",
   "metadata": {},
   "source": [
    "### Compare"
   ]
  },
  {
   "cell_type": "code",
   "execution_count": null,
   "metadata": {},
   "outputs": [],
   "source": [
    "df = df_res[df_res.TEST== test].merge(DT, on ='LOCID')[['LOCID','RatingGroup', 'PREMIUM','Premium']]\n",
    "df['Diff']= np.abs(df.PREMIUM - df.Premium)/df.PREMIUM\n",
    "print('Accuracy: ', df.Diff.max())\n",
    "df"
   ]
  }
 ],
 "metadata": {
  "interpreter": {
   "hash": "127074f8ccc7e6be4e4813583b3c2191c4b36279ad1345c0e84a925cf005a6c8"
  },
  "kernelspec": {
   "display_name": "Python 3.8.8 64-bit ('premium-allocation-tool--jsZs_J2-py3.8': poetry)",
   "name": "python3"
  },
  "language_info": {
   "codemirror_mode": {
    "name": "ipython",
    "version": 3
   },
   "file_extension": ".py",
   "mimetype": "text/x-python",
   "name": "python",
   "nbconvert_exporter": "python",
   "pygments_lexer": "ipython3",
   "version": "3.9.2"
  }
 },
 "nbformat": 4,
 "nbformat_minor": 4
}
