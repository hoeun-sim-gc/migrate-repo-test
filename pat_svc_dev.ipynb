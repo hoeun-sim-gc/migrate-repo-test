{
 "cells": [
  {
   "cell_type": "code",
   "execution_count": 2,
   "source": [
    "import json \r\n",
    "from pat_sql import PatJob\r\n",
    "from common import AppSettings"
   ],
   "outputs": [],
   "metadata": {}
  },
  {
   "cell_type": "markdown",
   "source": [
    "# Submit Job"
   ],
   "metadata": {}
  },
  {
   "cell_type": "code",
   "execution_count": 3,
   "source": [
    "job_para = json.load(open('data/pat_job_test.json'))\r\n",
    "job_para"
   ],
   "outputs": [
    {
     "output_type": "execute_result",
     "data": {
      "text/plain": [
       "{'job_guid': '80a1ca07-41f9-4f34-b7bb-d01b477bc78d',\n",
       " 'job_name': 'PAT_Test_AIG',\n",
       " 'error_action': 'continue',\n",
       " 'type_of_rating': 'PSOLD',\n",
       " 'coverage': 'Building + Contents + Time Element',\n",
       " 'peril_subline': 'All_Perils',\n",
       " 'subject_premium': 100000000.0,\n",
       " 'loss_alae_ratio': 1,\n",
       " 'average_accident_date': '1/1/2022',\n",
       " 'trend_factor': 1.035,\n",
       " 'additional_coverage': 2,\n",
       " 'deductible_treatment': 'Retains Limit',\n",
       " 'server': 'DFWCAT-RMS5SQL1',\n",
       " 'edm_database': 'RMS_EPL_AIG_PAT_Testing_202107_EDM181',\n",
       " 'rdm_database': 'RMS_EPL_AIG_PAT_Testing_202107_RDM181',\n",
       " 'portinfoid': 6,\n",
       " 'perilid': 5,\n",
       " 'analysisid': 5,\n",
       " 'user_name': 'cxiao',\n",
       " 'user_email': 'chengyou.xiao@guycarp.com'}"
      ]
     },
     "metadata": {},
     "execution_count": 3
    }
   ],
   "metadata": {}
  },
  {
   "cell_type": "markdown",
   "source": [
    "# Run Sequential Code "
   ],
   "metadata": {}
  },
  {
   "cell_type": "code",
   "execution_count": null,
   "source": [
    "%%time\r\n",
    "\r\n",
    "job = PatAnalysis(job_para) \r\n",
    "\r\n",
    "job.extract_edm_rdm()\r\n",
    "if job.check_data():\r\n",
    "    if len(job.df_fac) > 0:\r\n",
    "        job.net_of_fac()    \r\n",
    "\r\n",
    "        job.allocate_with_psold()   \r\n",
    "        job.df_pat.to_csv(r'C:\\_Working\\PAT_20201019\\__temp\\df_pat_svc.csv',index=False)\r\n",
    "    "
   ],
   "outputs": [],
   "metadata": {}
  },
  {
   "cell_type": "markdown",
   "source": [
    "# Run with Service"
   ],
   "metadata": {}
  },
  {
   "cell_type": "code",
   "execution_count": 31,
   "source": [
    "import requests\r\n",
    "import uuid\r\n",
    "import json\r\n",
    "\r\n",
    "# files = {'para': ('pat_para', open('data/pat_job_test.json','rt'))}\r\n",
    "\r\n",
    "job_para = json.load(open('data/pat_job_test.json'))\r\n",
    "job_para['job_guid'] = str(uuid.uuid4())\r\n",
    "\r\n",
    "files = {'para': ('pat_para', json.dumps(job_para))}\r\n",
    "ret = requests.post(\"http://localhost:5000/api/Jobs\", files = files)\r\n",
    "ret.status_code, ret.content"
   ],
   "outputs": [
    {
     "output_type": "execute_result",
     "data": {
      "text/plain": [
       "(200, b'Analysis submitted!')"
      ]
     },
     "metadata": {},
     "execution_count": 31
    }
   ],
   "metadata": {}
  },
  {
   "cell_type": "markdown",
   "source": [
    "# Results Summary"
   ],
   "metadata": {}
  },
  {
   "cell_type": "code",
   "execution_count": 23,
   "source": [
    "import requests\r\n",
    "import pandas as pd\r\n",
    "\r\n",
    "ret = requests.get(\"http://localhost:5000/api/Jobs\")\r\n",
    "\r\n",
    "pd.DataFrame(ret.json())"
   ],
   "outputs": [
    {
     "output_type": "execute_result",
     "data": {
      "text/html": [
       "<div>\n",
       "<style scoped>\n",
       "    .dataframe tbody tr th:only-of-type {\n",
       "        vertical-align: middle;\n",
       "    }\n",
       "\n",
       "    .dataframe tbody tr th {\n",
       "        vertical-align: top;\n",
       "    }\n",
       "\n",
       "    .dataframe thead th {\n",
       "        text-align: right;\n",
       "    }\n",
       "</style>\n",
       "<table border=\"1\" class=\"dataframe\">\n",
       "  <thead>\n",
       "    <tr style=\"text-align: right;\">\n",
       "      <th></th>\n",
       "      <th>job_id</th>\n",
       "      <th>job_guid</th>\n",
       "      <th>job_name</th>\n",
       "      <th>receive_time</th>\n",
       "      <th>update_time</th>\n",
       "      <th>status</th>\n",
       "      <th>user_name</th>\n",
       "      <th>user_email</th>\n",
       "    </tr>\n",
       "  </thead>\n",
       "  <tbody>\n",
       "    <tr>\n",
       "      <th>0</th>\n",
       "      <td>100000116</td>\n",
       "      <td>97bc4fcb-ec97-41f6-ad89-46691f7f7187          ...</td>\n",
       "      <td>PAT_Test_AIG</td>\n",
       "      <td>2021-09-30T23:28:42.294745</td>\n",
       "      <td>2021-09-30T23:28:42.294745</td>\n",
       "      <td>received</td>\n",
       "      <td>cxiao</td>\n",
       "      <td>chengyou.xiao@guycarp.com</td>\n",
       "    </tr>\n",
       "    <tr>\n",
       "      <th>1</th>\n",
       "      <td>100000115</td>\n",
       "      <td>ae8f1ece-b043-4366-bfa8-c44f3bdf06ef          ...</td>\n",
       "      <td>PAT_Test_AIG</td>\n",
       "      <td>2021-09-30T23:24:21.783827</td>\n",
       "      <td>2021-09-30T23:24:21.783827</td>\n",
       "      <td>received</td>\n",
       "      <td>cxiao</td>\n",
       "      <td>chengyou.xiao@guycarp.com</td>\n",
       "    </tr>\n",
       "    <tr>\n",
       "      <th>2</th>\n",
       "      <td>100000114</td>\n",
       "      <td>d8e5f042-9192-4bdf-8de9-8059518c669c          ...</td>\n",
       "      <td>PAT_Test_AIG</td>\n",
       "      <td>2021-09-30T23:21:04.473973</td>\n",
       "      <td>2021-09-30T23:22:52.118962</td>\n",
       "      <td>finished</td>\n",
       "      <td>cxiao</td>\n",
       "      <td>chengyou.xiao@guycarp.com</td>\n",
       "    </tr>\n",
       "    <tr>\n",
       "      <th>3</th>\n",
       "      <td>100000113</td>\n",
       "      <td>d0fde339-2b0d-4cce-9f4d-dd0fb37cb4f3          ...</td>\n",
       "      <td>PAT_Test_AIG</td>\n",
       "      <td>2021-09-30T23:01:22.724348</td>\n",
       "      <td>2021-09-30T23:02:22.853646</td>\n",
       "      <td>finished</td>\n",
       "      <td>cxiao</td>\n",
       "      <td>chengyou.xiao@guycarp.com</td>\n",
       "    </tr>\n",
       "  </tbody>\n",
       "</table>\n",
       "</div>"
      ],
      "text/plain": [
       "      job_id                                           job_guid      job_name  \\\n",
       "0  100000116  97bc4fcb-ec97-41f6-ad89-46691f7f7187          ...  PAT_Test_AIG   \n",
       "1  100000115  ae8f1ece-b043-4366-bfa8-c44f3bdf06ef          ...  PAT_Test_AIG   \n",
       "2  100000114  d8e5f042-9192-4bdf-8de9-8059518c669c          ...  PAT_Test_AIG   \n",
       "3  100000113  d0fde339-2b0d-4cce-9f4d-dd0fb37cb4f3          ...  PAT_Test_AIG   \n",
       "\n",
       "                 receive_time                 update_time    status user_name  \\\n",
       "0  2021-09-30T23:28:42.294745  2021-09-30T23:28:42.294745  received     cxiao   \n",
       "1  2021-09-30T23:24:21.783827  2021-09-30T23:24:21.783827  received     cxiao   \n",
       "2  2021-09-30T23:21:04.473973  2021-09-30T23:22:52.118962  finished     cxiao   \n",
       "3  2021-09-30T23:01:22.724348  2021-09-30T23:02:22.853646  finished     cxiao   \n",
       "\n",
       "                  user_email  \n",
       "0  chengyou.xiao@guycarp.com  \n",
       "1  chengyou.xiao@guycarp.com  \n",
       "2  chengyou.xiao@guycarp.com  \n",
       "3  chengyou.xiao@guycarp.com  "
      ]
     },
     "metadata": {},
     "execution_count": 23
    }
   ],
   "metadata": {}
  }
 ],
 "metadata": {
  "interpreter": {
   "hash": "127074f8ccc7e6be4e4813583b3c2191c4b36279ad1345c0e84a925cf005a6c8"
  },
  "kernelspec": {
   "name": "python3",
   "display_name": "Python 3.8.8 64-bit ('premium-allocation-tool--jsZs_J2-py3.8': poetry)"
  },
  "language_info": {
   "codemirror_mode": {
    "name": "ipython",
    "version": 3
   },
   "file_extension": ".py",
   "mimetype": "text/x-python",
   "name": "python",
   "nbconvert_exporter": "python",
   "pygments_lexer": "ipython3",
   "version": "3.8.8"
  }
 },
 "nbformat": 4,
 "nbformat_minor": 4
}