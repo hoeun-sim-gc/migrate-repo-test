{
 "cells": [
  {
   "cell_type": "code",
   "execution_count": null,
   "source": [
    "import json \r\n",
    "import requests"
   ],
   "outputs": [],
   "metadata": {}
  },
  {
   "cell_type": "markdown",
   "source": [
    "# Submit Job"
   ],
   "metadata": {}
  },
  {
   "cell_type": "code",
   "execution_count": 7,
   "source": [
    "job_para = json.load(open('data/pat_job_test.json'))\r\n",
    "job_para"
   ],
   "outputs": [
    {
     "output_type": "execute_result",
     "data": {
      "text/plain": [
       "{'job_guid': '80a1ca07-41f9-4f34-b7bb-d01b477bc78d',\n",
       " 'job_name': 'PAT_Test_AIG',\n",
       " 'type_of_rating': 'PSOLD',\n",
       " 'coverage': 'Building + Contents + Time Element',\n",
       " 'peril_subline': 'All_Perils',\n",
       " 'subject_premium': 100000000.0,\n",
       " 'loss_alae_ratio': 1,\n",
       " 'average_accident_date': '1/1/2022',\n",
       " 'trend_factor': 1.035,\n",
       " 'additional_coverage': 2,\n",
       " 'deductible_treatment': 'Retains Limit',\n",
       " 'server': 'DFWCAT-RMS5SQL1',\n",
       " 'edm_database': 'RMS_EPL_AIG_PAT_Testing_202107_EDM181',\n",
       " 'rdm_database': 'RMS_EPL_AIG_PAT_Testing_202107_RDM181',\n",
       " 'portinfoid': 6,\n",
       " 'perilid': 5,\n",
       " 'analysisid': 5,\n",
       " 'user_name': 'cxiao',\n",
       " 'user_ema': 'chengyou.xiao@guycarp.com'}"
      ]
     },
     "metadata": {},
     "execution_count": 7
    }
   ],
   "metadata": {}
  },
  {
   "cell_type": "code",
   "execution_count": 6,
   "source": [
    "files = {'para': ('pat_para', open('data/pat_job_test.json'))}\r\n",
    "ret = requests.post(\"http://localhost:5000/api/Jobs\", files = files)\r\n",
    "ret.status_code, ret.content"
   ],
   "outputs": [
    {
     "output_type": "execute_result",
     "data": {
      "text/plain": [
       "(200, b'Analysis submitted!')"
      ]
     },
     "metadata": {},
     "execution_count": 6
    }
   ],
   "metadata": {}
  },
  {
   "cell_type": "markdown",
   "source": [
    "# Results Summary"
   ],
   "metadata": {}
  },
  {
   "cell_type": "code",
   "execution_count": null,
   "source": [],
   "outputs": [],
   "metadata": {}
  },
  {
   "cell_type": "code",
   "execution_count": null,
   "source": [],
   "outputs": [],
   "metadata": {}
  }
 ],
 "metadata": {
  "interpreter": {
   "hash": "127074f8ccc7e6be4e4813583b3c2191c4b36279ad1345c0e84a925cf005a6c8"
  },
  "kernelspec": {
   "name": "python3",
   "display_name": "Python 3.8.8 64-bit ('premium-allocation-tool--jsZs_J2-py3.8': poetry)"
  },
  "language_info": {
   "codemirror_mode": {
    "name": "ipython",
    "version": 3
   },
   "file_extension": ".py",
   "mimetype": "text/x-python",
   "name": "python",
   "nbconvert_exporter": "python",
   "pygments_lexer": "ipython3",
   "version": "3.8.8"
  }
 },
 "nbformat": 4,
 "nbformat_minor": 4
}