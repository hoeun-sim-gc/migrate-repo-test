{
 "cells": [
  {
   "cell_type": "code",
   "execution_count": 3,
   "metadata": {},
   "outputs": [],
   "source": [
    "import json \n",
    "from pat_sql import PatJob\n",
    "from pat_common import AppSettings"
   ]
  },
  {
   "cell_type": "markdown",
   "metadata": {},
   "source": [
    "# Submit Job"
   ]
  },
  {
   "cell_type": "code",
   "execution_count": null,
   "metadata": {},
   "outputs": [],
   "source": [
    "job_para = json.load(open('data/pat_job_test.json'))\n",
    "job_para"
   ]
  },
  {
   "cell_type": "markdown",
   "metadata": {},
   "source": [
    "# Run Sequential Code "
   ]
  },
  {
   "cell_type": "code",
   "execution_count": null,
   "metadata": {},
   "outputs": [],
   "source": [
    "%%time\n",
    "\n",
    "job = PatJob(job_para) \n",
    "if job.job_id> 0:\n",
    "    job.perform_analysis()    \n",
    "\n",
    "ret = PatJob.get_results(job.job_id)\n",
    "res = None\n",
    "if ret is not None:\n",
    "    res = pd.DataFrame(json.loads(ret))\n"
   ]
  },
  {
   "cell_type": "markdown",
   "metadata": {},
   "source": [
    "# Run with Service"
   ]
  },
  {
   "cell_type": "code",
   "execution_count": 8,
   "metadata": {},
   "outputs": [
    {
     "data": {
      "text/plain": [
       "(200, b'Analysis submitted: 100000254')"
      ]
     },
     "execution_count": 8,
     "metadata": {},
     "output_type": "execute_result"
    }
   ],
   "source": [
    "import requests\n",
    "import uuid\n",
    "import json\n",
    "\n",
    "# files = {'para': ('pat_para', open('data/pat_job_test.json','rt'))}\n",
    "job_para = json.load(open('data/pat_job_test.json'))\n",
    "job_para['job_guid'] = str(uuid.uuid4())\n",
    "job_para['job_name'] = 'AIG Test no correction_t2'\n",
    "\n",
    "# files = {\n",
    "#         'para': json.dumps(job_para),\n",
    "#         # 'data': open(r'C:\\_Working\\PAT_20201019\\debug\\pat.valid.zip','rb')\n",
    "#     }\n",
    "\n",
    "# ret = requests.post(\"http://frkcat-ws10:8002/api/Jobs\", files=files)\n",
    "ret = requests.post(\"http://frkcat-ws10:8002/api/Jobs\", json=job_para)\n",
    "# ret = requests.post(\"http://localhost:5000/api/Jobs\", json=job_para)\n",
    "ret.status_code, ret.content"
   ]
  },
  {
   "cell_type": "markdown",
   "metadata": {},
   "source": [
    "# Batch submit"
   ]
  },
  {
   "cell_type": "code",
   "execution_count": 1,
   "metadata": {},
   "outputs": [
    {
     "name": "stdout",
     "output_type": "stream",
     "text": [
      "NACI 200 b'Analysis submitted: 100000272'\n",
      "MedRisk 200 b'Analysis submitted: 100000273'\n",
      "Advantage 200 b'Analysis submitted: 100000274'\n",
      "CanadaCombined 200 b'Analysis submitted: 100000275'\n",
      "FARM_HUREQ 200 b'Analysis submitted: 100000276'\n",
      "WSGBF 200 b'Analysis submitted: 100000277'\n",
      "WSGIM 200 b'Analysis submitted: 100000278'\n",
      "SCI 200 b'Analysis submitted: 100000279'\n",
      "WSGPD 200 b'Analysis submitted: 100000280'\n",
      "CM_Warehouse 200 b'Analysis submitted: 100000281'\n",
      "OMC 200 b'Analysis submitted: 100000282'\n",
      "CM_IM 200 b'Analysis submitted: 100000283'\n",
      "Programs 200 b'Analysis submitted: 100000284'\n",
      "MAP 200 b'Analysis submitted: 100000285'\n",
      "BDA 200 b'Analysis submitted: 100000286'\n",
      "ACEIM 200 b'Analysis submitted: 100000287'\n"
     ]
    }
   ],
   "source": [
    "import requests\n",
    "import uuid\n",
    "import json\n",
    "\n",
    "job_para = {\n",
    "  \"server\": \"FRKCAT-RMS4SQL1\",\n",
    "  \"edm\": \"Chubb_CLNA_BUILD_20210701_EDM_v181\",\n",
    "  \"rdm\": \"Chubb_CLNA_2021_FireGELwPol_RDMv181\",\n",
    "  \"portinfoid\": 7,\n",
    "  \"perilid\": 2,\n",
    "  \"analysisid\": 31,\n",
    "  \"type_of_rating\": \"PSOLD\",\n",
    "  \"peril_subline\": \"All Perils\",\n",
    "  \"subject_premium\": 1,\n",
    "  \"coverage\": \"Building + Contents + Time Element\",\n",
    "  \"loss_alae_ratio\": 1,\n",
    "  \"average_accident_date\": \"10/1/2022\",\n",
    "  \"trend_factor\": 1.035,\n",
    "  \"additional_coverage\": 2,\n",
    "  \"deductible_treatment\": \"Retains Limit\",\n",
    "  \"error_action\": \"Continue\",\n",
    "  \"job_name\": \"Chubb_2021_MedRisk\",\n",
    "  \"user_name\": \"Chengyou\",\n",
    "  \"user_email\": \"chengyou.xiao@guycarp.com\",\n",
    "  \"job_guid\": \"2064e7f3-2292-4944-aae6-7b8d23ef3507\"\n",
    "}\n",
    "\n",
    "lst=[('NACI',8,5,9),\n",
    "('MedRisk',7,2,31),\n",
    "('Advantage',2,5,3),\n",
    "('CanadaCombined',4,5,5),\n",
    "('FARM_HUREQ',5,2,29),\n",
    "('WSGBF',14,5,13),\n",
    "('WSGIM',15,5,15),\n",
    "('SCI',13,5,11),\n",
    "('WSGPD',16,5,17),\n",
    "('CM_Warehouse',18,5,21),\n",
    "('OMC',17,5,19),\n",
    "('CM_IM',19,5,23),\n",
    "('Programs',30,5,27),\n",
    "('MAP',6,5,7),\n",
    "('BDA',29,5,25),\n",
    "('ACEIM',1,5,2)]\n",
    "\n",
    "for port in lst:\n",
    "    job_para['job_guid'] = str(uuid.uuid4())\n",
    "    job_para['job_name'] = f'Chubb_2021_{port[0]}'\n",
    "    job_para['portinfoid'] = port[1]\n",
    "    job_para['perilid'] = port[2]\n",
    "    job_para['analysisid'] = port[3]\n",
    "\n",
    "    ret = requests.post(\"http://frkcat-ws10:8002/api/Jobs\", json=job_para)\n",
    "    print(port[0],ret.status_code, ret.content)\n"
   ]
  },
  {
   "cell_type": "markdown",
   "metadata": {},
   "source": [
    "# Results Summary"
   ]
  },
  {
   "cell_type": "code",
   "execution_count": 6,
   "metadata": {},
   "outputs": [
    {
     "data": {
      "text/html": [
       "<div>\n",
       "<style scoped>\n",
       "    .dataframe tbody tr th:only-of-type {\n",
       "        vertical-align: middle;\n",
       "    }\n",
       "\n",
       "    .dataframe tbody tr th {\n",
       "        vertical-align: top;\n",
       "    }\n",
       "\n",
       "    .dataframe thead th {\n",
       "        text-align: right;\n",
       "    }\n",
       "</style>\n",
       "<table border=\"1\" class=\"dataframe\">\n",
       "  <thead>\n",
       "    <tr style=\"text-align: right;\">\n",
       "      <th></th>\n",
       "      <th>job_id</th>\n",
       "      <th>job_guid</th>\n",
       "      <th>job_name</th>\n",
       "      <th>receive_time</th>\n",
       "      <th>update_time</th>\n",
       "      <th>status</th>\n",
       "      <th>user_name</th>\n",
       "      <th>user_email</th>\n",
       "    </tr>\n",
       "  </thead>\n",
       "  <tbody>\n",
       "    <tr>\n",
       "      <th>0</th>\n",
       "      <td>100000250</td>\n",
       "      <td>1d77cd9e-af4e-41fd-91e3-a42f1e972d89          ...</td>\n",
       "      <td>AIG Test no correction</td>\n",
       "      <td>2021-10-20T13:57:24.712060</td>\n",
       "      <td>2021-10-20T13:58:21.370116</td>\n",
       "      <td>finished</td>\n",
       "      <td>cxiao</td>\n",
       "      <td>chengyou.xiao@guycarp.com</td>\n",
       "    </tr>\n",
       "    <tr>\n",
       "      <th>1</th>\n",
       "      <td>100000249</td>\n",
       "      <td>c394c375-bdf3-4c89-b0e5-5c4acf6d2d06          ...</td>\n",
       "      <td>AIG Test no correction</td>\n",
       "      <td>2021-10-20T13:51:33.359530</td>\n",
       "      <td>2021-10-20T13:51:33.359530</td>\n",
       "      <td>received</td>\n",
       "      <td>cxiao</td>\n",
       "      <td>chengyou.xiao@guycarp.com</td>\n",
       "    </tr>\n",
       "    <tr>\n",
       "      <th>2</th>\n",
       "      <td>100000248</td>\n",
       "      <td>f9182469-86b3-4a90-9336-2a7b280f37d2          ...</td>\n",
       "      <td>Chubb_2021_FARM_HUREQ3</td>\n",
       "      <td>2021-10-20T13:05:22.290467</td>\n",
       "      <td>2021-10-20T13:05:22.290467</td>\n",
       "      <td>received</td>\n",
       "      <td>Chengyou</td>\n",
       "      <td>chengyou.xiao@guycarp.com</td>\n",
       "    </tr>\n",
       "    <tr>\n",
       "      <th>3</th>\n",
       "      <td>100000247</td>\n",
       "      <td>e8e85e0c-e352-4923-9513-caa646391234          ...</td>\n",
       "      <td>AIG Test no correction 2</td>\n",
       "      <td>2021-10-20T03:12:51.940419</td>\n",
       "      <td>2021-10-20T03:13:49.679353</td>\n",
       "      <td>finished</td>\n",
       "      <td>cxiao</td>\n",
       "      <td>chengyou.xiao@guycarp.com</td>\n",
       "    </tr>\n",
       "    <tr>\n",
       "      <th>4</th>\n",
       "      <td>100000246</td>\n",
       "      <td>74ad184d-4086-4c8d-85d1-8f9c4bd948b4          ...</td>\n",
       "      <td>Chubb_2021_FARM_HUREQ1</td>\n",
       "      <td>2021-10-20T03:05:02.720246</td>\n",
       "      <td>2021-10-20T03:07:55.531619</td>\n",
       "      <td>finished</td>\n",
       "      <td>Chengyou</td>\n",
       "      <td>chengyou.xiao@guycarp.com</td>\n",
       "    </tr>\n",
       "    <tr>\n",
       "      <th>...</th>\n",
       "      <td>...</td>\n",
       "      <td>...</td>\n",
       "      <td>...</td>\n",
       "      <td>...</td>\n",
       "      <td>...</td>\n",
       "      <td>...</td>\n",
       "      <td>...</td>\n",
       "      <td>...</td>\n",
       "    </tr>\n",
       "    <tr>\n",
       "      <th>75</th>\n",
       "      <td>100000174</td>\n",
       "      <td>225f40d3-c7c7-4391-a7a6-61ab7ab3ee48          ...</td>\n",
       "      <td>PAT_Test_AIG</td>\n",
       "      <td>2021-10-06T03:38:39.867358</td>\n",
       "      <td>2021-10-06T03:40:32.092580</td>\n",
       "      <td>finished</td>\n",
       "      <td>cxiao</td>\n",
       "      <td>chengyou.xiao@guycarp.com</td>\n",
       "    </tr>\n",
       "    <tr>\n",
       "      <th>76</th>\n",
       "      <td>100000186</td>\n",
       "      <td>ea874a2a-d1b0-4271-a02e-899554b7d435          ...</td>\n",
       "      <td>PAT_Test_AIG</td>\n",
       "      <td>2021-10-06T03:39:51.340227</td>\n",
       "      <td>2021-10-06T03:39:51.340227</td>\n",
       "      <td>received</td>\n",
       "      <td>cxiao</td>\n",
       "      <td>chengyou.xiao@guycarp.com</td>\n",
       "    </tr>\n",
       "    <tr>\n",
       "      <th>77</th>\n",
       "      <td>100000173</td>\n",
       "      <td>766e38aa-cccb-4392-a0cb-612994d32a91          ...</td>\n",
       "      <td>PAT_Test_AIG</td>\n",
       "      <td>2021-10-04T06:24:16.906015</td>\n",
       "      <td>2021-10-04T06:25:09.814641</td>\n",
       "      <td>finished</td>\n",
       "      <td>cxiao</td>\n",
       "      <td>chengyou.xiao@guycarp.com</td>\n",
       "    </tr>\n",
       "    <tr>\n",
       "      <th>78</th>\n",
       "      <td>100000172</td>\n",
       "      <td>1169970f-caa7-4037-a8e4-5def94ee85ba          ...</td>\n",
       "      <td>PAT_Test_AIG</td>\n",
       "      <td>2021-10-04T06:14:12.330143</td>\n",
       "      <td>2021-10-04T06:15:27.186835</td>\n",
       "      <td>finished</td>\n",
       "      <td>cxiao</td>\n",
       "      <td>chengyou.xiao@guycarp.com</td>\n",
       "    </tr>\n",
       "    <tr>\n",
       "      <th>79</th>\n",
       "      <td>100000171</td>\n",
       "      <td>80d9e3d2-2625-499e-8d8e-f2aadec9affd          ...</td>\n",
       "      <td>PAT_Test_AIG</td>\n",
       "      <td>2021-10-04T06:13:52.048106</td>\n",
       "      <td>2021-10-04T06:14:47.205136</td>\n",
       "      <td>finished</td>\n",
       "      <td>cxiao</td>\n",
       "      <td>chengyou.xiao@guycarp.com</td>\n",
       "    </tr>\n",
       "  </tbody>\n",
       "</table>\n",
       "<p>80 rows × 8 columns</p>\n",
       "</div>"
      ],
      "text/plain": [
       "       job_id                                           job_guid  \\\n",
       "0   100000250  1d77cd9e-af4e-41fd-91e3-a42f1e972d89          ...   \n",
       "1   100000249  c394c375-bdf3-4c89-b0e5-5c4acf6d2d06          ...   \n",
       "2   100000248  f9182469-86b3-4a90-9336-2a7b280f37d2          ...   \n",
       "3   100000247  e8e85e0c-e352-4923-9513-caa646391234          ...   \n",
       "4   100000246  74ad184d-4086-4c8d-85d1-8f9c4bd948b4          ...   \n",
       "..        ...                                                ...   \n",
       "75  100000174  225f40d3-c7c7-4391-a7a6-61ab7ab3ee48          ...   \n",
       "76  100000186  ea874a2a-d1b0-4271-a02e-899554b7d435          ...   \n",
       "77  100000173  766e38aa-cccb-4392-a0cb-612994d32a91          ...   \n",
       "78  100000172  1169970f-caa7-4037-a8e4-5def94ee85ba          ...   \n",
       "79  100000171  80d9e3d2-2625-499e-8d8e-f2aadec9affd          ...   \n",
       "\n",
       "                    job_name                receive_time  \\\n",
       "0     AIG Test no correction  2021-10-20T13:57:24.712060   \n",
       "1     AIG Test no correction  2021-10-20T13:51:33.359530   \n",
       "2     Chubb_2021_FARM_HUREQ3  2021-10-20T13:05:22.290467   \n",
       "3   AIG Test no correction 2  2021-10-20T03:12:51.940419   \n",
       "4     Chubb_2021_FARM_HUREQ1  2021-10-20T03:05:02.720246   \n",
       "..                       ...                         ...   \n",
       "75              PAT_Test_AIG  2021-10-06T03:38:39.867358   \n",
       "76              PAT_Test_AIG  2021-10-06T03:39:51.340227   \n",
       "77              PAT_Test_AIG  2021-10-04T06:24:16.906015   \n",
       "78              PAT_Test_AIG  2021-10-04T06:14:12.330143   \n",
       "79              PAT_Test_AIG  2021-10-04T06:13:52.048106   \n",
       "\n",
       "                   update_time    status user_name                 user_email  \n",
       "0   2021-10-20T13:58:21.370116  finished     cxiao  chengyou.xiao@guycarp.com  \n",
       "1   2021-10-20T13:51:33.359530  received     cxiao  chengyou.xiao@guycarp.com  \n",
       "2   2021-10-20T13:05:22.290467  received  Chengyou  chengyou.xiao@guycarp.com  \n",
       "3   2021-10-20T03:13:49.679353  finished     cxiao  chengyou.xiao@guycarp.com  \n",
       "4   2021-10-20T03:07:55.531619  finished  Chengyou  chengyou.xiao@guycarp.com  \n",
       "..                         ...       ...       ...                        ...  \n",
       "75  2021-10-06T03:40:32.092580  finished     cxiao  chengyou.xiao@guycarp.com  \n",
       "76  2021-10-06T03:39:51.340227  received     cxiao  chengyou.xiao@guycarp.com  \n",
       "77  2021-10-04T06:25:09.814641  finished     cxiao  chengyou.xiao@guycarp.com  \n",
       "78  2021-10-04T06:15:27.186835  finished     cxiao  chengyou.xiao@guycarp.com  \n",
       "79  2021-10-04T06:14:47.205136  finished     cxiao  chengyou.xiao@guycarp.com  \n",
       "\n",
       "[80 rows x 8 columns]"
      ]
     },
     "execution_count": 6,
     "metadata": {},
     "output_type": "execute_result"
    }
   ],
   "source": [
    "import requests\n",
    "import pandas as pd\n",
    "\n",
    "job_id = 100000196\n",
    "actions = {\n",
    "    'list': 'api/Jobs',\n",
    "    'para': f'api/Jobs/{job_id}/Para',\n",
    "    'summary': f'api/Jobs/{job_id}',\n",
    "    'result': f'api/Jobs/{job_id}/Result',\n",
    "    'validation': f'api/Jobs/{job_id}/Validation',\n",
    "}\n",
    "\n",
    "ret = requests.get(f\"http://frkcat-ws10:8002/{actions['list']}\")\n",
    "try:\n",
    "    df = pd.DataFrame(ret.json())\n",
    "except:\n",
    "    df = None\n",
    "    print(ret.content)\n",
    "\n",
    "df\n",
    "# print(json.dumps(ret.json(), indent=4))"
   ]
  },
  {
   "cell_type": "code",
   "execution_count": null,
   "metadata": {},
   "outputs": [],
   "source": []
  },
  {
   "cell_type": "code",
   "execution_count": null,
   "metadata": {},
   "outputs": [],
   "source": [
    "df.groupby(by='LocationIDStack').agg({'Premium':'sum'}) "
   ]
  },
  {
   "cell_type": "code",
   "execution_count": null,
   "metadata": {},
   "outputs": [],
   "source": []
  },
  {
   "cell_type": "code",
   "execution_count": 1,
   "metadata": {},
   "outputs": [
    {
     "ename": "JSONDecodeError",
     "evalue": "Expecting value: line 1 column 1 (char 0)",
     "output_type": "error",
     "traceback": [
      "\u001b[1;31m---------------------------------------------------------------------------\u001b[0m",
      "\u001b[1;31mJSONDecodeError\u001b[0m                           Traceback (most recent call last)",
      "\u001b[1;32m~\\AppData\\Local\\Temp/ipykernel_11632/218819579.py\u001b[0m in \u001b[0;36m<module>\u001b[1;34m\u001b[0m\n\u001b[0;32m      3\u001b[0m \u001b[1;33m\u001b[0m\u001b[0m\n\u001b[0;32m      4\u001b[0m \u001b[0mret\u001b[0m \u001b[1;33m=\u001b[0m \u001b[0mrequests\u001b[0m\u001b[1;33m.\u001b[0m\u001b[0mget\u001b[0m\u001b[1;33m(\u001b[0m\u001b[1;34mf\"http://localhost:5000/api/result/100000344\"\u001b[0m\u001b[1;33m)\u001b[0m\u001b[1;33m\u001b[0m\u001b[1;33m\u001b[0m\u001b[0m\n\u001b[1;32m----> 5\u001b[1;33m \u001b[0mdf\u001b[0m \u001b[1;33m=\u001b[0m \u001b[0mpd\u001b[0m\u001b[1;33m.\u001b[0m\u001b[0mDataFrame\u001b[0m\u001b[1;33m(\u001b[0m\u001b[0mret\u001b[0m\u001b[1;33m.\u001b[0m\u001b[0mjson\u001b[0m\u001b[1;33m(\u001b[0m\u001b[1;33m)\u001b[0m\u001b[1;33m)\u001b[0m\u001b[1;33m\u001b[0m\u001b[1;33m\u001b[0m\u001b[0m\n\u001b[0m\u001b[0;32m      6\u001b[0m \u001b[1;33m\u001b[0m\u001b[0m\n\u001b[0;32m      7\u001b[0m \u001b[1;31m# ret.status_code, ret.content\u001b[0m\u001b[1;33m\u001b[0m\u001b[1;33m\u001b[0m\u001b[1;33m\u001b[0m\u001b[0m\n",
      "\u001b[1;32m~\\AppData\\Local\\pypoetry\\Cache\\virtualenvs\\premium-allocation-tool--jsZs_J2-py3.8\\lib\\site-packages\\requests\\models.py\u001b[0m in \u001b[0;36mjson\u001b[1;34m(self, **kwargs)\u001b[0m\n\u001b[0;32m    908\u001b[0m                     \u001b[1;31m# used.\u001b[0m\u001b[1;33m\u001b[0m\u001b[1;33m\u001b[0m\u001b[1;33m\u001b[0m\u001b[0m\n\u001b[0;32m    909\u001b[0m                     \u001b[1;32mpass\u001b[0m\u001b[1;33m\u001b[0m\u001b[1;33m\u001b[0m\u001b[0m\n\u001b[1;32m--> 910\u001b[1;33m         \u001b[1;32mreturn\u001b[0m \u001b[0mcomplexjson\u001b[0m\u001b[1;33m.\u001b[0m\u001b[0mloads\u001b[0m\u001b[1;33m(\u001b[0m\u001b[0mself\u001b[0m\u001b[1;33m.\u001b[0m\u001b[0mtext\u001b[0m\u001b[1;33m,\u001b[0m \u001b[1;33m**\u001b[0m\u001b[0mkwargs\u001b[0m\u001b[1;33m)\u001b[0m\u001b[1;33m\u001b[0m\u001b[1;33m\u001b[0m\u001b[0m\n\u001b[0m\u001b[0;32m    911\u001b[0m \u001b[1;33m\u001b[0m\u001b[0m\n\u001b[0;32m    912\u001b[0m     \u001b[1;33m@\u001b[0m\u001b[0mproperty\u001b[0m\u001b[1;33m\u001b[0m\u001b[1;33m\u001b[0m\u001b[0m\n",
      "\u001b[1;32mC:\\Program Files\\Python38\\lib\\json\\__init__.py\u001b[0m in \u001b[0;36mloads\u001b[1;34m(s, cls, object_hook, parse_float, parse_int, parse_constant, object_pairs_hook, **kw)\u001b[0m\n\u001b[0;32m    355\u001b[0m             \u001b[0mparse_int\u001b[0m \u001b[1;32mis\u001b[0m \u001b[1;32mNone\u001b[0m \u001b[1;32mand\u001b[0m \u001b[0mparse_float\u001b[0m \u001b[1;32mis\u001b[0m \u001b[1;32mNone\u001b[0m \u001b[1;32mand\u001b[0m\u001b[1;33m\u001b[0m\u001b[1;33m\u001b[0m\u001b[0m\n\u001b[0;32m    356\u001b[0m             parse_constant is None and object_pairs_hook is None and not kw):\n\u001b[1;32m--> 357\u001b[1;33m         \u001b[1;32mreturn\u001b[0m \u001b[0m_default_decoder\u001b[0m\u001b[1;33m.\u001b[0m\u001b[0mdecode\u001b[0m\u001b[1;33m(\u001b[0m\u001b[0ms\u001b[0m\u001b[1;33m)\u001b[0m\u001b[1;33m\u001b[0m\u001b[1;33m\u001b[0m\u001b[0m\n\u001b[0m\u001b[0;32m    358\u001b[0m     \u001b[1;32mif\u001b[0m \u001b[0mcls\u001b[0m \u001b[1;32mis\u001b[0m \u001b[1;32mNone\u001b[0m\u001b[1;33m:\u001b[0m\u001b[1;33m\u001b[0m\u001b[1;33m\u001b[0m\u001b[0m\n\u001b[0;32m    359\u001b[0m         \u001b[0mcls\u001b[0m \u001b[1;33m=\u001b[0m \u001b[0mJSONDecoder\u001b[0m\u001b[1;33m\u001b[0m\u001b[1;33m\u001b[0m\u001b[0m\n",
      "\u001b[1;32mC:\\Program Files\\Python38\\lib\\json\\decoder.py\u001b[0m in \u001b[0;36mdecode\u001b[1;34m(self, s, _w)\u001b[0m\n\u001b[0;32m    335\u001b[0m \u001b[1;33m\u001b[0m\u001b[0m\n\u001b[0;32m    336\u001b[0m         \"\"\"\n\u001b[1;32m--> 337\u001b[1;33m         \u001b[0mobj\u001b[0m\u001b[1;33m,\u001b[0m \u001b[0mend\u001b[0m \u001b[1;33m=\u001b[0m \u001b[0mself\u001b[0m\u001b[1;33m.\u001b[0m\u001b[0mraw_decode\u001b[0m\u001b[1;33m(\u001b[0m\u001b[0ms\u001b[0m\u001b[1;33m,\u001b[0m \u001b[0midx\u001b[0m\u001b[1;33m=\u001b[0m\u001b[0m_w\u001b[0m\u001b[1;33m(\u001b[0m\u001b[0ms\u001b[0m\u001b[1;33m,\u001b[0m \u001b[1;36m0\u001b[0m\u001b[1;33m)\u001b[0m\u001b[1;33m.\u001b[0m\u001b[0mend\u001b[0m\u001b[1;33m(\u001b[0m\u001b[1;33m)\u001b[0m\u001b[1;33m)\u001b[0m\u001b[1;33m\u001b[0m\u001b[1;33m\u001b[0m\u001b[0m\n\u001b[0m\u001b[0;32m    338\u001b[0m         \u001b[0mend\u001b[0m \u001b[1;33m=\u001b[0m \u001b[0m_w\u001b[0m\u001b[1;33m(\u001b[0m\u001b[0ms\u001b[0m\u001b[1;33m,\u001b[0m \u001b[0mend\u001b[0m\u001b[1;33m)\u001b[0m\u001b[1;33m.\u001b[0m\u001b[0mend\u001b[0m\u001b[1;33m(\u001b[0m\u001b[1;33m)\u001b[0m\u001b[1;33m\u001b[0m\u001b[1;33m\u001b[0m\u001b[0m\n\u001b[0;32m    339\u001b[0m         \u001b[1;32mif\u001b[0m \u001b[0mend\u001b[0m \u001b[1;33m!=\u001b[0m \u001b[0mlen\u001b[0m\u001b[1;33m(\u001b[0m\u001b[0ms\u001b[0m\u001b[1;33m)\u001b[0m\u001b[1;33m:\u001b[0m\u001b[1;33m\u001b[0m\u001b[1;33m\u001b[0m\u001b[0m\n",
      "\u001b[1;32mC:\\Program Files\\Python38\\lib\\json\\decoder.py\u001b[0m in \u001b[0;36mraw_decode\u001b[1;34m(self, s, idx)\u001b[0m\n\u001b[0;32m    353\u001b[0m             \u001b[0mobj\u001b[0m\u001b[1;33m,\u001b[0m \u001b[0mend\u001b[0m \u001b[1;33m=\u001b[0m \u001b[0mself\u001b[0m\u001b[1;33m.\u001b[0m\u001b[0mscan_once\u001b[0m\u001b[1;33m(\u001b[0m\u001b[0ms\u001b[0m\u001b[1;33m,\u001b[0m \u001b[0midx\u001b[0m\u001b[1;33m)\u001b[0m\u001b[1;33m\u001b[0m\u001b[1;33m\u001b[0m\u001b[0m\n\u001b[0;32m    354\u001b[0m         \u001b[1;32mexcept\u001b[0m \u001b[0mStopIteration\u001b[0m \u001b[1;32mas\u001b[0m \u001b[0merr\u001b[0m\u001b[1;33m:\u001b[0m\u001b[1;33m\u001b[0m\u001b[1;33m\u001b[0m\u001b[0m\n\u001b[1;32m--> 355\u001b[1;33m             \u001b[1;32mraise\u001b[0m \u001b[0mJSONDecodeError\u001b[0m\u001b[1;33m(\u001b[0m\u001b[1;34m\"Expecting value\"\u001b[0m\u001b[1;33m,\u001b[0m \u001b[0ms\u001b[0m\u001b[1;33m,\u001b[0m \u001b[0merr\u001b[0m\u001b[1;33m.\u001b[0m\u001b[0mvalue\u001b[0m\u001b[1;33m)\u001b[0m \u001b[1;32mfrom\u001b[0m \u001b[1;32mNone\u001b[0m\u001b[1;33m\u001b[0m\u001b[1;33m\u001b[0m\u001b[0m\n\u001b[0m\u001b[0;32m    356\u001b[0m         \u001b[1;32mreturn\u001b[0m \u001b[0mobj\u001b[0m\u001b[1;33m,\u001b[0m \u001b[0mend\u001b[0m\u001b[1;33m\u001b[0m\u001b[1;33m\u001b[0m\u001b[0m\n",
      "\u001b[1;31mJSONDecodeError\u001b[0m: Expecting value: line 1 column 1 (char 0)"
     ]
    }
   ],
   "source": [
    "import requests\n",
    "import pandas as pd\n",
    "\n",
    "ret = requests.get(f\"http://localhost:5000/api/result/100000344\")\n",
    "df = pd.DataFrame(ret.json())\n",
    "\n",
    "# ret.status_code, ret.content\n",
    "df"
   ]
  },
  {
   "cell_type": "code",
   "execution_count": 1,
   "metadata": {},
   "outputs": [
    {
     "data": {
      "text/plain": [
       "(200, b'Analysis submitted: 100000232')"
      ]
     },
     "execution_count": 1,
     "metadata": {},
     "output_type": "execute_result"
    }
   ],
   "source": [
    "import requests\n",
    "import uuid\n",
    "import json\n",
    "\n",
    "job_para = {\n",
    "    \"additional_coverage\": 2,\n",
    "    \"analysisid\": 9,\n",
    "    \"average_accident_date\": \"10/1/2022\",\n",
    "    \"coverage\": \"Building + Contents + Time Element\",\n",
    "    \"deductible_treatment\": \"Retains Limit\",\n",
    "    \"edm\": \"Chubb_CLNA_BUILD_20210701_EDM_v181\",\n",
    "    \"error_action\": \"Continue\",\n",
    "    \"valid_rules\": 3,\n",
    "    \"job_guid\": \"755f191e-ace9-4491-afb4-34afc6e4a10b\",\n",
    "    \"job_name\": \"Chubb_2021_NACI_try\",\n",
    "    \"loss_alae_ratio\": 1,\n",
    "    \"peril_subline\": \"All Perils\",\n",
    "    \"perilid\": 5,\n",
    "    \"portinfoid\": 8,\n",
    "    \"rdm\": \"Chubb_CLNA_2021_FireGELwPol_RDMv181\",\n",
    "    \"server\": \"FRKCAT-RMS4SQL1\",\n",
    "    \"subject_premium\": 1,\n",
    "    \"trend_factor\": 1.035,\n",
    "    \"type_of_rating\": \"PSOLD\",\n",
    "    \"user_email\": \"chengyou.xiao@guycarp.com\",\n",
    "    \"user_name\": \"Chengyou\"\n",
    "}\n",
    "\n",
    "ret = requests.post(\"http://localhost:5000/api/job\", json = job_para)\n",
    "ret.status_code, ret.content"
   ]
  },
  {
   "cell_type": "code",
   "execution_count": null,
   "metadata": {},
   "outputs": [],
   "source": []
  }
 ],
 "metadata": {
  "interpreter": {
   "hash": "127074f8ccc7e6be4e4813583b3c2191c4b36279ad1345c0e84a925cf005a6c8"
  },
  "kernelspec": {
   "display_name": "Python 3.8.8 64-bit ('premium-allocation-tool--jsZs_J2-py3.8': poetry)",
   "name": "python3"
  },
  "language_info": {
   "codemirror_mode": {
    "name": "ipython",
    "version": 3
   },
   "file_extension": ".py",
   "mimetype": "text/x-python",
   "name": "python",
   "nbconvert_exporter": "python",
   "pygments_lexer": "ipython3",
   "version": "3.8.8"
  }
 },
 "nbformat": 4,
 "nbformat_minor": 4
}
