{
 "cells": [
  {
   "cell_type": "code",
   "execution_count": null,
   "source": [
    "import json \r\n",
    "from pat import PatAnalysis, PatFlag"
   ],
   "outputs": [],
   "metadata": {}
  },
  {
   "cell_type": "markdown",
   "source": [
    "# Submit Job"
   ],
   "metadata": {}
  },
  {
   "cell_type": "code",
   "execution_count": null,
   "source": [
    "job_para = json.load(open('data/pat_job_test.json'))\r\n",
    "job_para"
   ],
   "outputs": [],
   "metadata": {}
  },
  {
   "cell_type": "markdown",
   "source": [
    "# Run Sequential Code "
   ],
   "metadata": {}
  },
  {
   "cell_type": "code",
   "execution_count": null,
   "source": [
    "%%time\r\n",
    "\r\n",
    "job = PatAnalysis(job_para) \r\n",
    "\r\n",
    "job.extract_edm_rdm()\r\n",
    "if job.check_data():\r\n",
    "    if len(job.df_fac) > 0:\r\n",
    "        job.net_of_fac()    \r\n",
    "\r\n",
    "        job.allocate_with_psold()   \r\n",
    "        job.df_pat.to_csv(r'C:\\_Working\\PAT_20201019\\__temp\\df_pat_svc.csv',index=False)\r\n",
    "    "
   ],
   "outputs": [],
   "metadata": {}
  },
  {
   "cell_type": "markdown",
   "source": [
    "# Run with Service"
   ],
   "metadata": {}
  },
  {
   "cell_type": "code",
   "execution_count": 3,
   "source": [
    "import requests\r\n",
    "import uuid\r\n",
    "import json\r\n",
    "\r\n",
    "# files = {'para': ('pat_para', open('data/pat_job_test.json','rt'))}\r\n",
    "\r\n",
    "job_para = json.load(open('data/pat_job_test.json'))\r\n",
    "job_para['job_guid'] = str(uuid.uuid4())\r\n",
    "\r\n",
    "files = {'para': ('pat_para', json.dumps(job_para))}\r\n",
    "ret = requests.post(\"http://localhost:5000/api/Jobs\", files = files)\r\n",
    "ret.status_code, ret.content"
   ],
   "outputs": [
    {
     "output_type": "execute_result",
     "data": {
      "text/plain": [
       "(200, b'Analysis submitted!')"
      ]
     },
     "metadata": {},
     "execution_count": 3
    }
   ],
   "metadata": {}
  },
  {
   "cell_type": "markdown",
   "source": [
    "# Results Summary"
   ],
   "metadata": {}
  },
  {
   "cell_type": "code",
   "execution_count": 4,
   "source": [
    "import requests\r\n",
    "import pandas as pd\r\n",
    "\r\n",
    "ret = requests.get(\"http://localhost:5000/api/Jobs\")\r\n",
    "\r\n",
    "pd.DataFrame(ret.json())"
   ],
   "outputs": [
    {
     "output_type": "execute_result",
     "data": {
      "text/html": [
       "<div>\n",
       "<style scoped>\n",
       "    .dataframe tbody tr th:only-of-type {\n",
       "        vertical-align: middle;\n",
       "    }\n",
       "\n",
       "    .dataframe tbody tr th {\n",
       "        vertical-align: top;\n",
       "    }\n",
       "\n",
       "    .dataframe thead th {\n",
       "        text-align: right;\n",
       "    }\n",
       "</style>\n",
       "<table border=\"1\" class=\"dataframe\">\n",
       "  <thead>\n",
       "    <tr style=\"text-align: right;\">\n",
       "      <th></th>\n",
       "      <th>job_id</th>\n",
       "      <th>job_guid</th>\n",
       "      <th>job_name</th>\n",
       "      <th>receive_time</th>\n",
       "      <th>update_time</th>\n",
       "      <th>status</th>\n",
       "      <th>user_name</th>\n",
       "      <th>user_email</th>\n",
       "    </tr>\n",
       "  </thead>\n",
       "  <tbody>\n",
       "    <tr>\n",
       "      <th>0</th>\n",
       "      <td>100000047</td>\n",
       "      <td>97bd267e-d81f-45a8-b882-7dc7e4552e44          ...</td>\n",
       "      <td>PAT_Test_AIG</td>\n",
       "      <td>2021-09-28T03:14:05.740398</td>\n",
       "      <td>2021-09-28T03:15:19.752131</td>\n",
       "      <td>finished</td>\n",
       "      <td>cxiao</td>\n",
       "      <td>chengyou.xiao@guycarp.com</td>\n",
       "    </tr>\n",
       "    <tr>\n",
       "      <th>1</th>\n",
       "      <td>100000046</td>\n",
       "      <td>5be49de0-18d6-4402-b35f-ca97e49934dd          ...</td>\n",
       "      <td>PAT_Test_AIG</td>\n",
       "      <td>2021-09-27T21:38:44.469166</td>\n",
       "      <td>2021-09-27T21:40:16.412275</td>\n",
       "      <td>finished</td>\n",
       "      <td>cxiao</td>\n",
       "      <td>chengyou.xiao@guycarp.com</td>\n",
       "    </tr>\n",
       "    <tr>\n",
       "      <th>2</th>\n",
       "      <td>100000043</td>\n",
       "      <td>8d0ac597-0fd7-4aa7-9e43-b6b8b0ebb76a          ...</td>\n",
       "      <td>PAT_Test_AIG</td>\n",
       "      <td>2021-09-27T15:41:46.163242</td>\n",
       "      <td>2021-09-27T15:42:56.264525</td>\n",
       "      <td>finished</td>\n",
       "      <td>cxiao</td>\n",
       "      <td>chengyou.xiao@guycarp.com</td>\n",
       "    </tr>\n",
       "  </tbody>\n",
       "</table>\n",
       "</div>"
      ],
      "text/plain": [
       "      job_id                                           job_guid      job_name  \\\n",
       "0  100000047  97bd267e-d81f-45a8-b882-7dc7e4552e44          ...  PAT_Test_AIG   \n",
       "1  100000046  5be49de0-18d6-4402-b35f-ca97e49934dd          ...  PAT_Test_AIG   \n",
       "2  100000043  8d0ac597-0fd7-4aa7-9e43-b6b8b0ebb76a          ...  PAT_Test_AIG   \n",
       "\n",
       "                 receive_time                 update_time    status user_name  \\\n",
       "0  2021-09-28T03:14:05.740398  2021-09-28T03:15:19.752131  finished     cxiao   \n",
       "1  2021-09-27T21:38:44.469166  2021-09-27T21:40:16.412275  finished     cxiao   \n",
       "2  2021-09-27T15:41:46.163242  2021-09-27T15:42:56.264525  finished     cxiao   \n",
       "\n",
       "                  user_email  \n",
       "0  chengyou.xiao@guycarp.com  \n",
       "1  chengyou.xiao@guycarp.com  \n",
       "2  chengyou.xiao@guycarp.com  "
      ]
     },
     "metadata": {},
     "execution_count": 4
    }
   ],
   "metadata": {}
  }
 ],
 "metadata": {
  "interpreter": {
   "hash": "127074f8ccc7e6be4e4813583b3c2191c4b36279ad1345c0e84a925cf005a6c8"
  },
  "kernelspec": {
   "name": "python3",
   "display_name": "Python 3.8.8 64-bit ('premium-allocation-tool--jsZs_J2-py3.8': poetry)"
  },
  "language_info": {
   "codemirror_mode": {
    "name": "ipython",
    "version": 3
   },
   "file_extension": ".py",
   "mimetype": "text/x-python",
   "name": "python",
   "nbconvert_exporter": "python",
   "pygments_lexer": "ipython3",
   "version": "3.8.8"
  }
 },
 "nbformat": 4,
 "nbformat_minor": 4
}