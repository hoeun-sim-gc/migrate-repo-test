{
 "cells": [
  {
   "cell_type": "code",
   "execution_count": 8,
   "source": [
    "import json \r\n",
    "from pat_sql import PatJob\r\n",
    "from pat_common import AppSettings"
   ],
   "outputs": [],
   "metadata": {}
  },
  {
   "cell_type": "markdown",
   "source": [
    "# Submit Job"
   ],
   "metadata": {}
  },
  {
   "cell_type": "code",
   "execution_count": 3,
   "source": [
    "job_para = json.load(open('data/pat_job_test.json'))\r\n",
    "job_para"
   ],
   "outputs": [
    {
     "output_type": "execute_result",
     "data": {
      "text/plain": [
       "{'job_guid': '80a1ca07-41f9-4f34-b7bb-d01b477bc78d',\n",
       " 'job_name': 'PAT_Test_AIG',\n",
       " 'error_action': 'continue',\n",
       " 'type_of_rating': 'PSOLD',\n",
       " 'coverage': 'Building + Contents + Time Element',\n",
       " 'peril_subline': 'All_Perils',\n",
       " 'subject_premium': 100000000.0,\n",
       " 'loss_alae_ratio': 1,\n",
       " 'average_accident_date': '1/1/2022',\n",
       " 'trend_factor': 1.035,\n",
       " 'additional_coverage': 2,\n",
       " 'deductible_treatment': 'Retains Limit',\n",
       " 'server': 'DFWCAT-RMS5SQL1',\n",
       " 'edm_database': 'RMS_EPL_AIG_PAT_Testing_202107_EDM181',\n",
       " 'rdm_database': 'RMS_EPL_AIG_PAT_Testing_202107_RDM181',\n",
       " 'portinfoid': 6,\n",
       " 'perilid': 5,\n",
       " 'analysisid': 5,\n",
       " 'user_name': 'cxiao',\n",
       " 'user_email': 'chengyou.xiao@guycarp.com'}"
      ]
     },
     "metadata": {},
     "execution_count": 3
    }
   ],
   "metadata": {}
  },
  {
   "cell_type": "markdown",
   "source": [
    "# Run Sequential Code "
   ],
   "metadata": {}
  },
  {
   "cell_type": "code",
   "execution_count": null,
   "source": [
    "%%time\r\n",
    "\r\n",
    "job = PatJob(job_para) \r\n",
    "if job.job_id> 0:\r\n",
    "    job.perform_analysis()    \r\n",
    "\r\n",
    "ret = PatJob.get_results(job.job_id)\r\n",
    "res = None\r\n",
    "if ret is not None:\r\n",
    "    res = pd.DataFrame(json.loads(ret))\r\n"
   ],
   "outputs": [],
   "metadata": {}
  },
  {
   "cell_type": "markdown",
   "source": [
    "# Run with Service"
   ],
   "metadata": {}
  },
  {
   "cell_type": "code",
   "execution_count": 14,
   "source": [
    "import requests\r\n",
    "import uuid\r\n",
    "import json\r\n",
    "\r\n",
    "# files = {'para': ('pat_para', open('data/pat_job_test.json','rt'))}\r\n",
    "\r\n",
    "job_para = json.load(open('data/pat_job_test.json'))\r\n",
    "job_para['job_guid'] = str(uuid.uuid4())\r\n",
    "\r\n",
    "ret = requests.post(\"http://frkcat-ws10:8002/api/Jobs\", json=job_para )\r\n",
    "ret.status_code, ret.content"
   ],
   "outputs": [
    {
     "output_type": "execute_result",
     "data": {
      "text/plain": [
       "(200, b'Analysis submitted: 100000136')"
      ]
     },
     "metadata": {},
     "execution_count": 14
    }
   ],
   "metadata": {}
  },
  {
   "cell_type": "markdown",
   "source": [
    "# Results Summary"
   ],
   "metadata": {}
  },
  {
   "cell_type": "code",
   "execution_count": 20,
   "source": [
    "import requests\r\n",
    "import pandas as pd\r\n",
    "\r\n",
    "job_id = 100000132\r\n",
    "actions = {\r\n",
    "    'list': 'api/Jobs',\r\n",
    "    'para': f'api/Jobs/{job_id}/Para',\r\n",
    "    'summary': f'api/Jobs/{job_id}',\r\n",
    "    'result': f'api/Jobs/{job_id}/Result',\r\n",
    "}\r\n",
    "\r\n",
    "ret = requests.get(f\"http://frkcat-ws10:8002/{actions['summary']}\")\r\n",
    "try:\r\n",
    "    df = pd.DataFrame(ret.json())\r\n",
    "except:\r\n",
    "    df = None\r\n",
    "    print(ret.content)\r\n",
    "\r\n",
    "df\r\n",
    "# print(json.dumps(ret.json(), indent=4))"
   ],
   "outputs": [
    {
     "output_type": "execute_result",
     "data": {
      "text/html": [
       "<div>\n",
       "<style scoped>\n",
       "    .dataframe tbody tr th:only-of-type {\n",
       "        vertical-align: middle;\n",
       "    }\n",
       "\n",
       "    .dataframe tbody tr th {\n",
       "        vertical-align: top;\n",
       "    }\n",
       "\n",
       "    .dataframe thead th {\n",
       "        text-align: right;\n",
       "    }\n",
       "</style>\n",
       "<table border=\"1\" class=\"dataframe\">\n",
       "  <thead>\n",
       "    <tr style=\"text-align: right;\">\n",
       "      <th></th>\n",
       "      <th>cnt_policy</th>\n",
       "      <th>cnt_location</th>\n",
       "      <th>cnt_fac</th>\n",
       "    </tr>\n",
       "  </thead>\n",
       "  <tbody>\n",
       "    <tr>\n",
       "      <th>0</th>\n",
       "      <td>20996</td>\n",
       "      <td>20996</td>\n",
       "      <td>191647</td>\n",
       "    </tr>\n",
       "  </tbody>\n",
       "</table>\n",
       "</div>"
      ],
      "text/plain": [
       "   cnt_policy  cnt_location  cnt_fac\n",
       "0       20996         20996   191647"
      ]
     },
     "metadata": {},
     "execution_count": 20
    }
   ],
   "metadata": {}
  },
  {
   "cell_type": "code",
   "execution_count": 45,
   "source": [],
   "outputs": [
    {
     "output_type": "stream",
     "name": "stdout",
     "text": [
      "{\n",
      "    \"job_guid\": \"bd466a3e-ad62-4f21-8f61-566638d28874\",\n",
      "    \"job_name\": \"PAT_Test_AIG\",\n",
      "    \"error_action\": \"continue\",\n",
      "    \"type_of_rating\": \"PSOLD\",\n",
      "    \"coverage\": \"Building + Contents + Time Element\",\n",
      "    \"peril_subline\": \"All_Perils\",\n",
      "    \"subject_premium\": 100000000.0,\n",
      "    \"loss_alae_ratio\": 1,\n",
      "    \"average_accident_date\": \"1/1/2022\",\n",
      "    \"trend_factor\": 1.035,\n",
      "    \"additional_coverage\": 2,\n",
      "    \"deductible_treatment\": \"Retains Limit\",\n",
      "    \"server\": \"DFWCAT-RMS5SQL1\",\n",
      "    \"edm_database\": \"RMS_EPL_AIG_PAT_Testing_202107_EDM181\",\n",
      "    \"portinfoid\": 6,\n",
      "    \"perilid\": 5,\n",
      "    \"user_name\": \"cxiao\",\n",
      "    \"user_email\": \"chengyou.xiao@guycarp.com\"\n",
      "}\n"
     ]
    }
   ],
   "metadata": {}
  },
  {
   "cell_type": "code",
   "execution_count": 25,
   "source": [
    "df.groupby(by='LocationIDStack').agg({'Premium':'sum'}) "
   ],
   "outputs": [
    {
     "output_type": "execute_result",
     "data": {
      "text/html": [
       "<div>\n",
       "<style scoped>\n",
       "    .dataframe tbody tr th:only-of-type {\n",
       "        vertical-align: middle;\n",
       "    }\n",
       "\n",
       "    .dataframe tbody tr th {\n",
       "        vertical-align: top;\n",
       "    }\n",
       "\n",
       "    .dataframe thead th {\n",
       "        text-align: right;\n",
       "    }\n",
       "</style>\n",
       "<table border=\"1\" class=\"dataframe\">\n",
       "  <thead>\n",
       "    <tr style=\"text-align: right;\">\n",
       "      <th></th>\n",
       "      <th>Premium</th>\n",
       "    </tr>\n",
       "    <tr>\n",
       "      <th>LocationIDStack</th>\n",
       "      <th></th>\n",
       "    </tr>\n",
       "  </thead>\n",
       "  <tbody>\n",
       "    <tr>\n",
       "      <th>1508370</th>\n",
       "      <td>21127.570639</td>\n",
       "    </tr>\n",
       "    <tr>\n",
       "      <th>1508371</th>\n",
       "      <td>23439.639886</td>\n",
       "    </tr>\n",
       "    <tr>\n",
       "      <th>1508372</th>\n",
       "      <td>22093.713362</td>\n",
       "    </tr>\n",
       "    <tr>\n",
       "      <th>1508373</th>\n",
       "      <td>23439.657574</td>\n",
       "    </tr>\n",
       "    <tr>\n",
       "      <th>1508374</th>\n",
       "      <td>10573.501192</td>\n",
       "    </tr>\n",
       "    <tr>\n",
       "      <th>...</th>\n",
       "      <td>...</td>\n",
       "    </tr>\n",
       "    <tr>\n",
       "      <th>723115</th>\n",
       "      <td>0.000000</td>\n",
       "    </tr>\n",
       "    <tr>\n",
       "      <th>723116</th>\n",
       "      <td>0.000000</td>\n",
       "    </tr>\n",
       "    <tr>\n",
       "      <th>723117</th>\n",
       "      <td>0.000000</td>\n",
       "    </tr>\n",
       "    <tr>\n",
       "      <th>723118</th>\n",
       "      <td>0.000000</td>\n",
       "    </tr>\n",
       "    <tr>\n",
       "      <th>723119</th>\n",
       "      <td>486.911786</td>\n",
       "    </tr>\n",
       "  </tbody>\n",
       "</table>\n",
       "<p>20765 rows × 1 columns</p>\n",
       "</div>"
      ],
      "text/plain": [
       "                      Premium\n",
       "LocationIDStack              \n",
       "1508370          21127.570639\n",
       "1508371          23439.639886\n",
       "1508372          22093.713362\n",
       "1508373          23439.657574\n",
       "1508374          10573.501192\n",
       "...                       ...\n",
       "723115               0.000000\n",
       "723116               0.000000\n",
       "723117               0.000000\n",
       "723118               0.000000\n",
       "723119             486.911786\n",
       "\n",
       "[20765 rows x 1 columns]"
      ]
     },
     "metadata": {},
     "execution_count": 25
    }
   ],
   "metadata": {}
  }
 ],
 "metadata": {
  "interpreter": {
   "hash": "127074f8ccc7e6be4e4813583b3c2191c4b36279ad1345c0e84a925cf005a6c8"
  },
  "kernelspec": {
   "name": "python3",
   "display_name": "Python 3.8.8 64-bit ('premium-allocation-tool--jsZs_J2-py3.8': poetry)"
  },
  "language_info": {
   "codemirror_mode": {
    "name": "ipython",
    "version": 3
   },
   "file_extension": ".py",
   "mimetype": "text/x-python",
   "name": "python",
   "nbconvert_exporter": "python",
   "pygments_lexer": "ipython3",
   "version": "3.8.8"
  }
 },
 "nbformat": 4,
 "nbformat_minor": 4
}