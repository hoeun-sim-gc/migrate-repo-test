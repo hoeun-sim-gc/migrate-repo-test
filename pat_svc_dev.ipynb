{
 "cells": [
  {
   "cell_type": "code",
   "execution_count": null,
   "metadata": {},
   "outputs": [],
   "source": [
    "import json \n",
    "from pat_back import PatJob, AppSettings"
   ]
  },
  {
   "cell_type": "markdown",
   "metadata": {},
   "source": [
    "# Submit Job"
   ]
  },
  {
   "cell_type": "code",
   "execution_count": null,
   "metadata": {},
   "outputs": [],
   "source": [
    "job_para = json.load(open('data/pat_job_test.json'))\n",
    "job_para"
   ]
  },
  {
   "cell_type": "markdown",
   "metadata": {},
   "source": [
    "# Run Sequential Code "
   ]
  },
  {
   "cell_type": "code",
   "execution_count": null,
   "metadata": {},
   "outputs": [],
   "source": [
    "%%time\n",
    "\n",
    "job = PatJob(job_para) \n",
    "if job.job_id> 0:\n",
    "    job.perform_analysis()    \n",
    "\n",
    "ret = PatJob.get_results(job.job_id)\n",
    "res = None\n",
    "if ret is not None:\n",
    "    res = pd.DataFrame(json.loads(ret))\n"
   ]
  },
  {
   "cell_type": "markdown",
   "metadata": {},
   "source": [
    "# Run with Service"
   ]
  },
  {
   "cell_type": "code",
   "execution_count": null,
   "metadata": {},
   "outputs": [],
   "source": [
    "import requests\n",
    "import uuid\n",
    "import json\n",
    "\n",
    "# files = {'para': ('pat_para', open('data/pat_job_test.json','rt'))}\n",
    "job_para = json.load(open('data/pat_job_test.json'))\n",
    "job_para['job_guid'] = str(uuid.uuid4())\n",
    "job_para['job_name'] = 'AIG Test no correction_t2'\n",
    "\n",
    "# files = {\n",
    "#         'para': json.dumps(job_para),\n",
    "#         # 'data': open(r'C:\\_Working\\PAT_20201019\\debug\\pat.valid.zip','rb')\n",
    "#     }\n",
    "\n",
    "# ret = requests.post(\"http://frkcat-ws10:8002/api/Jobs\", files=files)\n",
    "ret = requests.post(\"http://frkcat-ws10:8002/api/Jobs\", json=job_para)\n",
    "# ret = requests.post(\"http://localhost:5000/api/Jobs\", json=job_para)\n",
    "ret.status_code, ret.content"
   ]
  },
  {
   "cell_type": "markdown",
   "metadata": {},
   "source": [
    "# Batch submit"
   ]
  },
  {
   "cell_type": "code",
   "execution_count": null,
   "metadata": {},
   "outputs": [],
   "source": [
    "import requests\n",
    "import uuid\n",
    "import json\n",
    "\n",
    "job_para = {\n",
    "  \"server\": \"FRKCAT-RMS4SQL1\",\n",
    "  \"edm\": \"Chubb_CLNA_BUILD_20210701_EDM_v181\",\n",
    "  \"rdm\": \"Chubb_CLNA_2021_FireGELwPol_RDMv181\",\n",
    "  \"portinfoid\": 7,\n",
    "  \"perilid\": 2,\n",
    "  \"analysisid\": 31,\n",
    "  \"type_of_rating\": \"PSOLD\",\n",
    "  \"peril_subline\": \"All Perils\",\n",
    "  \"coverage\": \"Building + Contents + Time Element\",\n",
    "  \"loss_alae_ratio\": 1,\n",
    "  \"average_accident_date\": \"10/1/2022\",\n",
    "  \"trend_factor\": 1.035,\n",
    "  \"additional_coverage\": 2,\n",
    "  \"deductible_treatment\": \"Retains Limit\",\n",
    "  \"valid_rules\": -1,\n",
    "  \"job_name\": \"Chubb_2021_MedRisk\",\n",
    "  \"user_name\": \"Chengyou\",\n",
    "  \"user_email\": \"chengyou.xiao@guycarp.com\",\n",
    "  \"job_guid\": \"2064e7f3-2292-4944-aae6-7b8d23ef3507\"\n",
    "}\n",
    "\n",
    "lst=[('NACI',8,5,9),\n",
    "('MedRisk',7,2,31),\n",
    "('Advantage',2,5,3),\n",
    "('CanadaCombined',4,5,5),\n",
    "('FARM_HUREQ',5,2,29),\n",
    "('WSGBF',14,5,13),\n",
    "('WSGIM',15,5,15),\n",
    "('SCI',13,5,11),\n",
    "('WSGPD',16,5,17),\n",
    "('CM_Warehouse',18,5,21),\n",
    "('OMC',17,5,19),\n",
    "('CM_IM',19,5,23),\n",
    "('Programs',30,5,27),\n",
    "('MAP',6,5,7),\n",
    "('BDA',29,5,25),\n",
    "('ACEIM',1,5,2)]\n",
    "\n",
    "for port in lst:\n",
    "    job_para['job_guid'] = str(uuid.uuid4())\n",
    "    job_para['job_name'] = f'Chubb_2021_{port[0]}'\n",
    "    job_para['portinfoid'] = port[1]\n",
    "    job_para['perilid'] = port[2]\n",
    "    job_para['analysisid'] = port[3]\n",
    "\n",
    "    ret = requests.post(\"http://frkcat-ws10:8002/api/Jobs\", json=job_para)\n",
    "    print(port[0],ret.status_code, ret.content)\n"
   ]
  },
  {
   "cell_type": "markdown",
   "metadata": {},
   "source": [
    "# Results Summary"
   ]
  },
  {
   "cell_type": "code",
   "execution_count": null,
   "metadata": {},
   "outputs": [],
   "source": [
    "import requests\n",
    "import pandas as pd\n",
    "\n",
    "job_id = 100000196\n",
    "actions = {\n",
    "    'list': 'api/Jobs',\n",
    "    'para': f'api/Jobs/{job_id}/Para',\n",
    "    'summary': f'api/Jobs/{job_id}',\n",
    "    'result': f'api/Jobs/{job_id}/Result',\n",
    "    'validation': f'api/Jobs/{job_id}/Validation',\n",
    "}\n",
    "\n",
    "ret = requests.get(f\"http://frkcat-ws10:8002/{actions['list']}\")\n",
    "try:\n",
    "    df = pd.DataFrame(ret.json())\n",
    "except:\n",
    "    df = None\n",
    "    print(ret.content)\n",
    "\n",
    "df\n",
    "# print(json.dumps(ret.json(), indent=4))"
   ]
  },
  {
   "cell_type": "code",
   "execution_count": null,
   "metadata": {},
   "outputs": [],
   "source": [
    "import requests\n",
    "\n",
    "job_id  = 100000075\n",
    "requests.put(f\"http://localhost:5000/api/public-job/{job_id}\")"
   ]
  },
  {
   "cell_type": "code",
   "execution_count": null,
   "metadata": {},
   "outputs": [],
   "source": [
    "df.groupby(by='LocationIDStack').agg({'Premium':'sum'}) "
   ]
  },
  {
   "cell_type": "code",
   "execution_count": null,
   "metadata": {},
   "outputs": [],
   "source": []
  },
  {
   "cell_type": "code",
   "execution_count": null,
   "metadata": {},
   "outputs": [],
   "source": [
    "import requests\n",
    "\n",
    "requests.post(f\"http://localhost:5000/api/reset/1_2_0_3\")"
   ]
  },
  {
   "cell_type": "code",
   "execution_count": null,
   "metadata": {},
   "outputs": [],
   "source": [
    "import requests\n",
    "import uuid\n",
    "import json\n",
    "\n",
    "job_para = {\n",
    "    \"additional_coverage\": 2,\n",
    "    \"analysisid\": 9,\n",
    "    \"average_accident_date\": \"10/1/2022\",\n",
    "    \"coverage\": \"Building_Contents_BI\",\n",
    "    \"deductible_treatment\": \"Retains_Limit\",\n",
    "    \"edm\": \"Chubb_CLNA_BUILD_20210701_EDM_v181\",\n",
    "    \"valid_rules\": -1,\n",
    "    \"job_guid\": \"755f191e-ace9-4491-afb4-34afc6e4a10b\",\n",
    "    \"job_name\": \"Chubb_2021_NACI_try\",\n",
    "    \"loss_alae_ratio\": 1,\n",
    "    \"peril_subline\": \"All_Perils\",\n",
    "    \"perilid\": 5,\n",
    "    \"portinfoid\": 8,\n",
    "    \"rdm\": \"Chubb_CLNA_2021_FireGELwPol_RDMv181\",\n",
    "    \"server\": \"FRKCAT-RMS4SQL1\",\n",
    "    \"subject_premium\": 1,\n",
    "    \"trend_factor\": 1.035,\n",
    "    \"type_of_rating\": \"PSOLD_2016\",\n",
    "    \"user_email\": \"chengyou.xiao@guycarp.com\",\n",
    "    \"user_name\": \"Chengyou\"\n",
    "}\n",
    "\n",
    "ret = requests.post(\"http://localhost:5000/api/job\", json = job_para)\n",
    "ret.status_code, ret.content"
   ]
  },
  {
   "cell_type": "code",
   "execution_count": null,
   "metadata": {},
   "outputs": [],
   "source": [
    "import numpy as np\n",
    "\n",
    "timeit()\n",
    "1000 * np.power(10, np.arange(11) * 0.5)"
   ]
  },
  {
   "cell_type": "code",
   "execution_count": null,
   "metadata": {},
   "outputs": [],
   "source": [
    "import json\n",
    "import numpy as np\n",
    "import pandas as pd\n",
    "import pyodbc\n",
    "\n",
    "conn_str = f'''DRIVER={{SQL Server}};Server=dfwcat-pm;Database=premium_allocation_tool;\n",
    "            User Id=sa;Password=In5tr@t1;MultipleActiveResultSets=true;'''\n",
    "\n",
    "def transform(row):\n",
    "    job_id = row[0]\n",
    "    user = row[1]\n",
    "    js= json.loads(row[2])\n",
    "\n",
    "    js1= {\n",
    "        \"job_name\":js[\"job_name\"],\n",
    "        \"data_source_type\":js[\"data_source_type\"]\n",
    "    }\n",
    "\n",
    "    if 'cat_data' in js: js1[\"cat_data\"] = js['cat_data'] \n",
    "    if 'reference_job' in js: js1[\"reference_job\"] = js['reference_job'] \n",
    "  \n",
    "    if \"data_correction\" in js and js['data_correction']: js1[\"data_correction\"] = js['data_correction'] \n",
    "    js1[\"valid_rules\"] = js['valid_rules'] \n",
    "    js1[\"type_of_rating\"] = js['type_of_rating'] \n",
    "    js1[\"curve_id\"] = js['curve_id'] \n",
    "\n",
    "    if 'psold' in js: js1[\"psold\"] = js['psold'] \n",
    "    if 'fls' in js: js1[\"fls\"] = js['fls'] \n",
    "    if 'mb' in js: js1[\"mb\"] = js['mb'] \n",
    "\n",
    "    js1[\"additional_coverage\"] = js['additional_coverage'] \n",
    "    js1[\"coverage_type\"] = js['coverage_type'] \n",
    "    js1[\"deductible_treatment\"] = js['deductible_treatment'] \n",
    "    js1[\"loss_alae_ratio\"] = js['loss_alae_ratio'] \n",
    "    js1[\"user_name\"] = js['user_name'] \n",
    "    js1[\"user_email\"] = js['user_email'] \n",
    "    js1[\"job_guid\"] = js['job_guid'] \n",
    "\n",
    "    js= js1\n",
    "\n",
    "    with pyodbc.connect(conn_str) as conn, conn.cursor() as cur:\n",
    "        cur.execute(f\"\"\"update pat_job set parameters = '{json.dumps(js).replace(\"'\", \"''\")}'\n",
    "                where job_id = {job_id}\"\"\")\n",
    "        cur.commit()\n",
    "\n",
    "    print(job_id)    \n",
    "\n",
    "with pyodbc.connect(conn_str) as conn:\n",
    "    df = pd.read_sql_query(\"\"\"select job_id, user_name, parameters from pat_job order by job_id\"\"\", conn)\n",
    "    \n",
    "df.apply(transform, axis =1)"
   ]
  },
  {
   "cell_type": "code",
   "execution_count": null,
   "metadata": {},
   "outputs": [],
   "source": [
    "import requests\n",
    "\n",
    "rg='_'.join([f'{a}' for a in range(100000015, 100000016)])\n",
    "\n",
    "requests.delete(f\"http://localhost:5000/api/job/{rg}\")\n",
    "\n"
   ]
  },
  {
   "cell_type": "code",
   "execution_count": null,
   "metadata": {},
   "outputs": [],
   "source": [
    "import requests\t\n",
    "requests.put(f\"http://localhost:5000/api/public-job/100000140\")    \n"
   ]
  },
  {
   "cell_type": "code",
   "execution_count": null,
   "metadata": {},
   "outputs": [],
   "source": [
    "import requests\t\n",
    "requests.get(f\"http://localhost:5000/api/data/100000142?data_type=results\") \n"
   ]
  },
  {
   "cell_type": "code",
   "execution_count": 2,
   "metadata": {},
   "outputs": [
    {
     "data": {
      "text/plain": [
       "'B'"
      ]
     },
     "execution_count": 2,
     "metadata": {},
     "output_type": "execute_result"
    }
   ],
   "source": [
    "import numpy as np\n",
    "import pandas as pd\n",
    "\n",
    "def find_column(df, *flds):\n",
    "    return next((f for f in df if f.lower() in map(str.lower, flds)), None)\n",
    "\n",
    "df = pd.DataFrame(data=np.arange(0,10).reshape(-1, 2), columns=['A', 'B'])\n",
    "\n",
    "find_column(df, 'b', 's', 'A1')"
   ]
  },
  {
   "cell_type": "code",
   "execution_count": 8,
   "metadata": {},
   "outputs": [
    {
     "data": {
      "text/plain": [
       "['A', 'B']"
      ]
     },
     "execution_count": 8,
     "metadata": {},
     "output_type": "execute_result"
    }
   ],
   "source": [
    "[c for c in df if c in ['A','B', 'C']]"
   ]
  }
 ],
 "metadata": {
  "interpreter": {
   "hash": "127074f8ccc7e6be4e4813583b3c2191c4b36279ad1345c0e84a925cf005a6c8"
  },
  "kernelspec": {
   "display_name": "Python 3.8.8 64-bit ('premium-allocation-tool--jsZs_J2-py3.8': poetry)",
   "name": "python3"
  },
  "language_info": {
   "codemirror_mode": {
    "name": "ipython",
    "version": 3
   },
   "file_extension": ".py",
   "mimetype": "text/x-python",
   "name": "python",
   "nbconvert_exporter": "python",
   "pygments_lexer": "ipython3",
   "version": "3.9.2"
  }
 },
 "nbformat": 4,
 "nbformat_minor": 4
}
