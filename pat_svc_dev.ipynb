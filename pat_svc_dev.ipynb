{
 "cells": [
  {
   "cell_type": "code",
   "execution_count": null,
   "source": [
    "import json \r\n",
    "from pat_sql import PatJob\r\n",
    "from pat_common import AppSettings"
   ],
   "outputs": [],
   "metadata": {}
  },
  {
   "cell_type": "markdown",
   "source": [
    "# Submit Job"
   ],
   "metadata": {}
  },
  {
   "cell_type": "code",
   "execution_count": null,
   "source": [
    "job_para = json.load(open('data/pat_job_test.json'))\r\n",
    "job_para"
   ],
   "outputs": [],
   "metadata": {}
  },
  {
   "cell_type": "markdown",
   "source": [
    "# Run Sequential Code "
   ],
   "metadata": {}
  },
  {
   "cell_type": "code",
   "execution_count": null,
   "source": [
    "%%time\r\n",
    "\r\n",
    "job = PatJob(job_para) \r\n",
    "if job.job_id> 0:\r\n",
    "    job.perform_analysis()    \r\n",
    "\r\n",
    "ret = PatJob.get_results(job.job_id)\r\n",
    "res = None\r\n",
    "if ret is not None:\r\n",
    "    res = pd.DataFrame(json.loads(ret))\r\n"
   ],
   "outputs": [],
   "metadata": {}
  },
  {
   "cell_type": "markdown",
   "source": [
    "# Run with Service"
   ],
   "metadata": {}
  },
  {
   "cell_type": "code",
   "execution_count": 22,
   "source": [
    "import requests\r\n",
    "import uuid\r\n",
    "import json\r\n",
    "\r\n",
    "# files = {'para': ('pat_para', open('data/pat_job_test.json','rt'))}\r\n",
    "job_para = json.load(open('data/pat_job_test.json'))\r\n",
    "job_para['job_guid'] = str(uuid.uuid4())\r\n",
    "\r\n",
    "files = {\r\n",
    "        'para': json.dumps(job_para),\r\n",
    "        'data': open(r'C:\\_Working\\PAT_20201019\\debug\\pat.valid.zip','rb')\r\n",
    "    }\r\n",
    "\r\n",
    "ret = requests.post(\"http://frkcat-ws10:8002/api/Jobs\", files=files)\r\n",
    "\r\n",
    "# ret = requests.post(\"http://localhost:5000/api/Jobs\", json=job_para)\r\n",
    "ret.status_code, ret.content"
   ],
   "outputs": [
    {
     "output_type": "execute_result",
     "data": {
      "text/plain": [
       "(200, b'Analysis submitted: 100000173')"
      ]
     },
     "metadata": {},
     "execution_count": 22
    }
   ],
   "metadata": {}
  },
  {
   "cell_type": "markdown",
   "source": [
    "# Results Summary"
   ],
   "metadata": {}
  },
  {
   "cell_type": "code",
   "execution_count": 2,
   "source": [
    "import requests\r\n",
    "import pandas as pd\r\n",
    "\r\n",
    "job_id = 100000171\r\n",
    "actions = {\r\n",
    "    'list': 'api/Jobs',\r\n",
    "    'para': f'api/Jobs/{job_id}/Para',\r\n",
    "    'summary': f'api/Jobs/{job_id}',\r\n",
    "    'result': f'api/Jobs/{job_id}/Result',\r\n",
    "    'validation': f'api/Jobs/{job_id}/Validation',\r\n",
    "}\r\n",
    "\r\n",
    "ret = requests.get(f\"http://frkcat-ws10:8002/{actions['list']}\")\r\n",
    "try:\r\n",
    "    df = pd.DataFrame(ret.json())\r\n",
    "except:\r\n",
    "    df = None\r\n",
    "    print(ret.content)\r\n",
    "\r\n",
    "df\r\n",
    "# print(json.dumps(ret.json(), indent=4))"
   ],
   "outputs": [
    {
     "output_type": "execute_result",
     "data": {
      "text/html": [
       "<div>\n",
       "<style scoped>\n",
       "    .dataframe tbody tr th:only-of-type {\n",
       "        vertical-align: middle;\n",
       "    }\n",
       "\n",
       "    .dataframe tbody tr th {\n",
       "        vertical-align: top;\n",
       "    }\n",
       "\n",
       "    .dataframe thead th {\n",
       "        text-align: right;\n",
       "    }\n",
       "</style>\n",
       "<table border=\"1\" class=\"dataframe\">\n",
       "  <thead>\n",
       "    <tr style=\"text-align: right;\">\n",
       "      <th></th>\n",
       "      <th>job_id</th>\n",
       "      <th>job_guid</th>\n",
       "      <th>job_name</th>\n",
       "      <th>receive_time</th>\n",
       "      <th>update_time</th>\n",
       "      <th>status</th>\n",
       "      <th>user_name</th>\n",
       "      <th>user_email</th>\n",
       "    </tr>\n",
       "  </thead>\n",
       "  <tbody>\n",
       "    <tr>\n",
       "      <th>0</th>\n",
       "      <td>100000173</td>\n",
       "      <td>766e38aa-cccb-4392-a0cb-612994d32a91          ...</td>\n",
       "      <td>PAT_Test_AIG</td>\n",
       "      <td>2021-10-04T06:24:16.906015</td>\n",
       "      <td>2021-10-04T06:25:09.814641</td>\n",
       "      <td>finished</td>\n",
       "      <td>cxiao</td>\n",
       "      <td>chengyou.xiao@guycarp.com</td>\n",
       "    </tr>\n",
       "    <tr>\n",
       "      <th>1</th>\n",
       "      <td>100000172</td>\n",
       "      <td>1169970f-caa7-4037-a8e4-5def94ee85ba          ...</td>\n",
       "      <td>PAT_Test_AIG</td>\n",
       "      <td>2021-10-04T06:14:12.330143</td>\n",
       "      <td>2021-10-04T06:15:27.186835</td>\n",
       "      <td>finished</td>\n",
       "      <td>cxiao</td>\n",
       "      <td>chengyou.xiao@guycarp.com</td>\n",
       "    </tr>\n",
       "    <tr>\n",
       "      <th>2</th>\n",
       "      <td>100000171</td>\n",
       "      <td>80d9e3d2-2625-499e-8d8e-f2aadec9affd          ...</td>\n",
       "      <td>PAT_Test_AIG</td>\n",
       "      <td>2021-10-04T06:13:52.048106</td>\n",
       "      <td>2021-10-04T06:14:47.205136</td>\n",
       "      <td>finished</td>\n",
       "      <td>cxiao</td>\n",
       "      <td>chengyou.xiao@guycarp.com</td>\n",
       "    </tr>\n",
       "  </tbody>\n",
       "</table>\n",
       "</div>"
      ],
      "text/plain": [
       "      job_id                                           job_guid      job_name  \\\n",
       "0  100000173  766e38aa-cccb-4392-a0cb-612994d32a91          ...  PAT_Test_AIG   \n",
       "1  100000172  1169970f-caa7-4037-a8e4-5def94ee85ba          ...  PAT_Test_AIG   \n",
       "2  100000171  80d9e3d2-2625-499e-8d8e-f2aadec9affd          ...  PAT_Test_AIG   \n",
       "\n",
       "                 receive_time                 update_time    status user_name  \\\n",
       "0  2021-10-04T06:24:16.906015  2021-10-04T06:25:09.814641  finished     cxiao   \n",
       "1  2021-10-04T06:14:12.330143  2021-10-04T06:15:27.186835  finished     cxiao   \n",
       "2  2021-10-04T06:13:52.048106  2021-10-04T06:14:47.205136  finished     cxiao   \n",
       "\n",
       "                  user_email  \n",
       "0  chengyou.xiao@guycarp.com  \n",
       "1  chengyou.xiao@guycarp.com  \n",
       "2  chengyou.xiao@guycarp.com  "
      ]
     },
     "metadata": {},
     "execution_count": 2
    }
   ],
   "metadata": {}
  },
  {
   "cell_type": "code",
   "execution_count": null,
   "source": [],
   "outputs": [],
   "metadata": {}
  },
  {
   "cell_type": "code",
   "execution_count": null,
   "source": [
    "df.groupby(by='LocationIDStack').agg({'Premium':'sum'}) "
   ],
   "outputs": [],
   "metadata": {}
  }
 ],
 "metadata": {
  "interpreter": {
   "hash": "127074f8ccc7e6be4e4813583b3c2191c4b36279ad1345c0e84a925cf005a6c8"
  },
  "kernelspec": {
   "name": "python3",
   "display_name": "Python 3.8.8 64-bit ('premium-allocation-tool--jsZs_J2-py3.8': poetry)"
  },
  "language_info": {
   "codemirror_mode": {
    "name": "ipython",
    "version": 3
   },
   "file_extension": ".py",
   "mimetype": "text/x-python",
   "name": "python",
   "nbconvert_exporter": "python",
   "pygments_lexer": "ipython3",
   "version": "3.8.8"
  }
 },
 "nbformat": 4,
 "nbformat_minor": 4
}