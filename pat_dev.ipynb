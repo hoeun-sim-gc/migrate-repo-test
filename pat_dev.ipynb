{
 "cells": [
  {
   "cell_type": "markdown",
   "source": [
    "# Input job parameter"
   ],
   "metadata": {}
  },
  {
   "cell_type": "code",
   "execution_count": 1,
   "source": [
    "import json \r\n",
    "\r\n",
    "job_para = json.load(open('data/pat_job_test.json'))\r\n",
    "job_para"
   ],
   "outputs": [
    {
     "output_type": "execute_result",
     "data": {
      "text/plain": [
       "{'portfolio_name': 'PAT_Test_AIG',\n",
       " 'type_of_rating': 'PSOLD',\n",
       " 'coverage': 'Building + Contents + Time Element',\n",
       " 'peril_subline': 'All_Perils',\n",
       " 'subject_premium': 100000000.0,\n",
       " 'loss_alae_ratio': 1,\n",
       " 'average_accident_date': '1/1/2022',\n",
       " 'trend_factor': 1.035,\n",
       " 'additional_coverage': 2,\n",
       " 'deductible_treatment': 'Retains Limit',\n",
       " 'server': 'DFWCAT-RMS5SQL1',\n",
       " 'edm_database': 'RMS_EPL_AIG_PAT_Testing_202107_EDM181',\n",
       " 'rdm_database': 'RMS_EPL_AIG_PAT_Testing_202107_RDM181',\n",
       " 'portinfoid': 6,\n",
       " 'perilid': 5,\n",
       " 'analysisid': 5}"
      ]
     },
     "metadata": {},
     "execution_count": 1
    }
   ],
   "metadata": {}
  },
  {
   "cell_type": "markdown",
   "source": [
    "# Create job"
   ],
   "metadata": {}
  },
  {
   "cell_type": "code",
   "execution_count": 2,
   "source": [
    "import numpy as np\r\n",
    "import pandas as pd\r\n",
    "\r\n",
    "from pat import PatJob, PatFlag\r\n",
    "\r\n",
    "job = PatJob(job_para)\r\n",
    "job.extract_edm_rdm()"
   ],
   "outputs": [],
   "metadata": {}
  },
  {
   "cell_type": "markdown",
   "source": [
    "# Check data"
   ],
   "metadata": {}
  },
  {
   "cell_type": "code",
   "execution_count": 3,
   "source": [
    "job.check_data()"
   ],
   "outputs": [],
   "metadata": {}
  },
  {
   "cell_type": "markdown",
   "source": [
    "# Net of Fac"
   ],
   "metadata": {}
  },
  {
   "cell_type": "code",
   "execution_count": 4,
   "source": [
    "# Splitting PsuedoPolicies by FAC Layering\r\n",
    "if len(job.df_fac) > 0:\r\n",
    "    job.net_of_fac()"
   ],
   "outputs": [],
   "metadata": {}
  },
  {
   "cell_type": "markdown",
   "source": [
    "# Allocate with PSOLD"
   ],
   "metadata": {}
  },
  {
   "cell_type": "code",
   "execution_count": 5,
   "source": [
    "job.allocate_with_psold()"
   ],
   "outputs": [],
   "metadata": {}
  },
  {
   "cell_type": "markdown",
   "source": [
    "# Comparison"
   ],
   "metadata": {}
  },
  {
   "cell_type": "code",
   "execution_count": 12,
   "source": [
    "df1 = job.df_pat.reset_index(drop=True)\r\n",
    "\r\n",
    "df2 =pd.read_csv(r'C:\\_Working\\PAT_20201019\\__temp\\dfpat.csv',dtype={\r\n",
    "                     'LocationIDStack': str\r\n",
    "                 }, index_col=0).reset_index(drop=True)\r\n",
    "df2.PseudoPolicyID = df2.PseudoPolicyID.str.replace(' _ ', '_').reset_index(drop=True) \r\n",
    "df1.columns = df2.columns\r\n",
    "\r\n",
    "\r\n",
    "# df1 = df1.sort_values(by=['PseudoPolicyID','LocationIDStack','PseudoLayerID']).reset_index(drop=True)\r\n",
    "# df2 = df2.sort_values(by=['PseudoPolicyID','LocationIDStack','PseudoLayerID']).reset_index(drop=True)\r\n",
    "# df1 = df1.sort_values(by=['PseudoPolicyID']).reset_index(drop=True)\r\n",
    "# df2 = df2.sort_values(by=['PseudoPolicyID']).reset_index(drop=True)\r\n",
    "# df2 = df2.sort_values(by=['PseudoPolicyID','FacAttachment', 'FacLimit','FacCeded']).reset_index(drop=True)\r\n",
    "\r\n",
    "# df1 = df1.sort_values(by=['PseudoPolicyID','Retention']).reset_index(drop=True)\r\n",
    "# df2 = df2.sort_values(by=['PseudoPolicyID','Retention']).reset_index(drop=True)\r\n",
    "\r\n",
    "\r\n",
    "print(df1.shape, df2.shape)\r\n",
    "pd.DataFrame(df1.dtypes,columns=['DF1']).join(pd.DataFrame(df2.dtypes,columns=['DF2']),how='outer')"
   ],
   "outputs": [
    {
     "output_type": "stream",
     "name": "stdout",
     "text": [
      "(101757, 13) (101757, 13)\n"
     ]
    },
    {
     "output_type": "execute_result",
     "data": {
      "text/html": [
       "<div>\n",
       "<style scoped>\n",
       "    .dataframe tbody tr th:only-of-type {\n",
       "        vertical-align: middle;\n",
       "    }\n",
       "\n",
       "    .dataframe tbody tr th {\n",
       "        vertical-align: top;\n",
       "    }\n",
       "\n",
       "    .dataframe thead th {\n",
       "        text-align: right;\n",
       "    }\n",
       "</style>\n",
       "<table border=\"1\" class=\"dataframe\">\n",
       "  <thead>\n",
       "    <tr style=\"text-align: right;\">\n",
       "      <th></th>\n",
       "      <th>DF1</th>\n",
       "      <th>DF2</th>\n",
       "    </tr>\n",
       "  </thead>\n",
       "  <tbody>\n",
       "    <tr>\n",
       "      <th>Limit</th>\n",
       "      <td>float64</td>\n",
       "      <td>float64</td>\n",
       "    </tr>\n",
       "    <tr>\n",
       "      <th>Retention</th>\n",
       "      <td>float64</td>\n",
       "      <td>float64</td>\n",
       "    </tr>\n",
       "    <tr>\n",
       "      <th>Allocated.Premium</th>\n",
       "      <td>float64</td>\n",
       "      <td>float64</td>\n",
       "    </tr>\n",
       "    <tr>\n",
       "      <th>Participation</th>\n",
       "      <td>float64</td>\n",
       "      <td>float64</td>\n",
       "    </tr>\n",
       "    <tr>\n",
       "      <th>LossRatio</th>\n",
       "      <td>float64</td>\n",
       "      <td>int64</td>\n",
       "    </tr>\n",
       "    <tr>\n",
       "      <th>AOI</th>\n",
       "      <td>float64</td>\n",
       "      <td>float64</td>\n",
       "    </tr>\n",
       "    <tr>\n",
       "      <th>LocationIDStack</th>\n",
       "      <td>object</td>\n",
       "      <td>object</td>\n",
       "    </tr>\n",
       "    <tr>\n",
       "      <th>Rating.Group</th>\n",
       "      <td>int64</td>\n",
       "      <td>int64</td>\n",
       "    </tr>\n",
       "    <tr>\n",
       "      <th>Original.Policy.ID</th>\n",
       "      <td>int64</td>\n",
       "      <td>int64</td>\n",
       "    </tr>\n",
       "    <tr>\n",
       "      <th>PseudoPolicyID</th>\n",
       "      <td>object</td>\n",
       "      <td>object</td>\n",
       "    </tr>\n",
       "    <tr>\n",
       "      <th>Pseudo.Layer.ID</th>\n",
       "      <td>int64</td>\n",
       "      <td>int64</td>\n",
       "    </tr>\n",
       "    <tr>\n",
       "      <th>PolicyLAS</th>\n",
       "      <td>float64</td>\n",
       "      <td>float64</td>\n",
       "    </tr>\n",
       "    <tr>\n",
       "      <th>DeductibleLAS</th>\n",
       "      <td>float64</td>\n",
       "      <td>float64</td>\n",
       "    </tr>\n",
       "  </tbody>\n",
       "</table>\n",
       "</div>"
      ],
      "text/plain": [
       "                        DF1      DF2\n",
       "Limit               float64  float64\n",
       "Retention           float64  float64\n",
       "Allocated.Premium   float64  float64\n",
       "Participation       float64  float64\n",
       "LossRatio           float64    int64\n",
       "AOI                 float64  float64\n",
       "LocationIDStack      object   object\n",
       "Rating.Group          int64    int64\n",
       "Original.Policy.ID    int64    int64\n",
       "PseudoPolicyID       object   object\n",
       "Pseudo.Layer.ID       int64    int64\n",
       "PolicyLAS           float64  float64\n",
       "DeductibleLAS       float64  float64"
      ]
     },
     "metadata": {},
     "execution_count": 12
    }
   ],
   "metadata": {}
  },
  {
   "cell_type": "code",
   "execution_count": 13,
   "source": [
    "from pandas.api.types import is_string_dtype\r\n",
    "from pandas.api.types import is_numeric_dtype\r\n",
    "\r\n",
    "cmp =pd.DataFrame(columns=['name','type', 'match','df1_nan','df2_nan'])\r\n",
    "for c in df1.columns:\r\n",
    "    if is_string_dtype(df1[c]):\r\n",
    "        if np.all(df1[c].fillna(value=\"\") != df2[c].fillna(value=\"\")):\r\n",
    "            cmp = cmp.append({'name': c,'type':df1[c].dtype,'match':'NO'}, ignore_index=True)\r\n",
    "        else:\r\n",
    "            cmp = cmp.append({'name': c,'type':df1[c].dtype,'match':'YES'}, ignore_index=True)\r\n",
    "    elif is_numeric_dtype(df1[c]):\r\n",
    "        dif =np.max(np.abs(df1[c].astype('float') - df2[c].astype('float')) / np.maximum(df1[c].astype('float'), df2[c].astype('float')) )\r\n",
    "        cmp = cmp.append({'name': c,'type':df1[c].dtype,'match':dif,\r\n",
    "            'df1_nan':np.sum(np.isnan(df1[c])),\r\n",
    "            'df2_nan':np.sum(np.isnan(df2[c]))\r\n",
    "        }, ignore_index=True)\r\n",
    "    else:\r\n",
    "        cmp = cmp.append({'name': c,'type':df1[c].dtype,'match':'UNK'}, ignore_index=True)\r\n",
    "\r\n",
    "cmp"
   ],
   "outputs": [
    {
     "output_type": "execute_result",
     "data": {
      "text/html": [
       "<div>\n",
       "<style scoped>\n",
       "    .dataframe tbody tr th:only-of-type {\n",
       "        vertical-align: middle;\n",
       "    }\n",
       "\n",
       "    .dataframe tbody tr th {\n",
       "        vertical-align: top;\n",
       "    }\n",
       "\n",
       "    .dataframe thead th {\n",
       "        text-align: right;\n",
       "    }\n",
       "</style>\n",
       "<table border=\"1\" class=\"dataframe\">\n",
       "  <thead>\n",
       "    <tr style=\"text-align: right;\">\n",
       "      <th></th>\n",
       "      <th>name</th>\n",
       "      <th>type</th>\n",
       "      <th>match</th>\n",
       "      <th>df1_nan</th>\n",
       "      <th>df2_nan</th>\n",
       "    </tr>\n",
       "  </thead>\n",
       "  <tbody>\n",
       "    <tr>\n",
       "      <th>0</th>\n",
       "      <td>Limit</td>\n",
       "      <td>float64</td>\n",
       "      <td>0.0</td>\n",
       "      <td>0</td>\n",
       "      <td>0</td>\n",
       "    </tr>\n",
       "    <tr>\n",
       "      <th>1</th>\n",
       "      <td>Retention</td>\n",
       "      <td>float64</td>\n",
       "      <td>0.0</td>\n",
       "      <td>0</td>\n",
       "      <td>0</td>\n",
       "    </tr>\n",
       "    <tr>\n",
       "      <th>2</th>\n",
       "      <td>Allocated.Premium</td>\n",
       "      <td>float64</td>\n",
       "      <td>0.000122</td>\n",
       "      <td>72</td>\n",
       "      <td>72</td>\n",
       "    </tr>\n",
       "    <tr>\n",
       "      <th>3</th>\n",
       "      <td>Participation</td>\n",
       "      <td>float64</td>\n",
       "      <td>0.0</td>\n",
       "      <td>0</td>\n",
       "      <td>0</td>\n",
       "    </tr>\n",
       "    <tr>\n",
       "      <th>4</th>\n",
       "      <td>LossRatio</td>\n",
       "      <td>float64</td>\n",
       "      <td>0.0</td>\n",
       "      <td>0</td>\n",
       "      <td>0</td>\n",
       "    </tr>\n",
       "    <tr>\n",
       "      <th>5</th>\n",
       "      <td>AOI</td>\n",
       "      <td>float64</td>\n",
       "      <td>0.0</td>\n",
       "      <td>0</td>\n",
       "      <td>0</td>\n",
       "    </tr>\n",
       "    <tr>\n",
       "      <th>6</th>\n",
       "      <td>LocationIDStack</td>\n",
       "      <td>object</td>\n",
       "      <td>YES</td>\n",
       "      <td>NaN</td>\n",
       "      <td>NaN</td>\n",
       "    </tr>\n",
       "    <tr>\n",
       "      <th>7</th>\n",
       "      <td>Rating.Group</td>\n",
       "      <td>int64</td>\n",
       "      <td>0.0</td>\n",
       "      <td>0</td>\n",
       "      <td>0</td>\n",
       "    </tr>\n",
       "    <tr>\n",
       "      <th>8</th>\n",
       "      <td>Original.Policy.ID</td>\n",
       "      <td>int64</td>\n",
       "      <td>0.0</td>\n",
       "      <td>0</td>\n",
       "      <td>0</td>\n",
       "    </tr>\n",
       "    <tr>\n",
       "      <th>9</th>\n",
       "      <td>PseudoPolicyID</td>\n",
       "      <td>object</td>\n",
       "      <td>YES</td>\n",
       "      <td>NaN</td>\n",
       "      <td>NaN</td>\n",
       "    </tr>\n",
       "    <tr>\n",
       "      <th>10</th>\n",
       "      <td>Pseudo.Layer.ID</td>\n",
       "      <td>int64</td>\n",
       "      <td>0.0</td>\n",
       "      <td>0</td>\n",
       "      <td>0</td>\n",
       "    </tr>\n",
       "    <tr>\n",
       "      <th>11</th>\n",
       "      <td>PolicyLAS</td>\n",
       "      <td>float64</td>\n",
       "      <td>0.0</td>\n",
       "      <td>0</td>\n",
       "      <td>0</td>\n",
       "    </tr>\n",
       "    <tr>\n",
       "      <th>12</th>\n",
       "      <td>DeductibleLAS</td>\n",
       "      <td>float64</td>\n",
       "      <td>0.0</td>\n",
       "      <td>0</td>\n",
       "      <td>0</td>\n",
       "    </tr>\n",
       "  </tbody>\n",
       "</table>\n",
       "</div>"
      ],
      "text/plain": [
       "                  name     type     match df1_nan df2_nan\n",
       "0                Limit  float64       0.0       0       0\n",
       "1            Retention  float64       0.0       0       0\n",
       "2    Allocated.Premium  float64  0.000122      72      72\n",
       "3        Participation  float64       0.0       0       0\n",
       "4            LossRatio  float64       0.0       0       0\n",
       "5                  AOI  float64       0.0       0       0\n",
       "6      LocationIDStack   object       YES     NaN     NaN\n",
       "7         Rating.Group    int64       0.0       0       0\n",
       "8   Original.Policy.ID    int64       0.0       0       0\n",
       "9       PseudoPolicyID   object       YES     NaN     NaN\n",
       "10     Pseudo.Layer.ID    int64       0.0       0       0\n",
       "11           PolicyLAS  float64       0.0       0       0\n",
       "12       DeductibleLAS  float64       0.0       0       0"
      ]
     },
     "metadata": {},
     "execution_count": 13
    }
   ],
   "metadata": {}
  },
  {
   "cell_type": "markdown",
   "source": [
    "# Test Area"
   ],
   "metadata": {}
  },
  {
   "cell_type": "code",
   "execution_count": null,
   "source": [
    "job.get_validation_counts()\r\n",
    "\r\n",
    "df_a, df_b, df_c =job.get_validation_data()\r\n",
    "print(df_a.shape, df_b.shape, df_c.shape)\r\n",
    "\r\n",
    "df_b.sort_values(['LocationIDStack', 'AOI']).to_csv(r'C:\\_Working\\PAT_20201019\\__temp\\loc_correction.csv',index=False)"
   ],
   "outputs": [],
   "metadata": {}
  },
  {
   "cell_type": "code",
   "execution_count": null,
   "source": [],
   "outputs": [],
   "metadata": {}
  }
 ],
 "metadata": {
  "interpreter": {
   "hash": "127074f8ccc7e6be4e4813583b3c2191c4b36279ad1345c0e84a925cf005a6c8"
  },
  "kernelspec": {
   "name": "python3",
   "display_name": "Python 3.8.8 64-bit ('premium-allocation-tool--jsZs_J2-py3.8': poetry)"
  },
  "language_info": {
   "codemirror_mode": {
    "name": "ipython",
    "version": 3
   },
   "file_extension": ".py",
   "mimetype": "text/x-python",
   "name": "python",
   "nbconvert_exporter": "python",
   "pygments_lexer": "ipython3",
   "version": "3.8.8"
  }
 },
 "nbformat": 4,
 "nbformat_minor": 4
}