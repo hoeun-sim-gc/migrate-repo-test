{
 "cells": [
  {
   "cell_type": "markdown",
   "source": [
    "# Premium Allocation Tool"
   ],
   "metadata": {}
  },
  {
   "cell_type": "code",
   "execution_count": 1,
   "source": [
    "import numpy as np\r\n",
    "import pandas as pd\r\n",
    "import json\r\n",
    "import uuid  \r\n",
    "\r\n",
    "from pat_sql import PatJob\r\n",
    "from common import PatFlag, AppSettings"
   ],
   "outputs": [],
   "metadata": {}
  },
  {
   "cell_type": "markdown",
   "source": [
    "# Get job list \r\n"
   ],
   "metadata": {}
  },
  {
   "cell_type": "markdown",
   "source": [
    "## Delete Job"
   ],
   "metadata": {}
  },
  {
   "cell_type": "code",
   "execution_count": 3,
   "source": [
    "# pd.DataFrame(json.loads(PatJob.get_job_list()))\r\n",
    "pd.DataFrame(json.loads(PatJob.delete(100000112)))"
   ],
   "outputs": [
    {
     "output_type": "execute_result",
     "data": {
      "text/html": [
       "<div>\n",
       "<style scoped>\n",
       "    .dataframe tbody tr th:only-of-type {\n",
       "        vertical-align: middle;\n",
       "    }\n",
       "\n",
       "    .dataframe tbody tr th {\n",
       "        vertical-align: top;\n",
       "    }\n",
       "\n",
       "    .dataframe thead th {\n",
       "        text-align: right;\n",
       "    }\n",
       "</style>\n",
       "<table border=\"1\" class=\"dataframe\">\n",
       "  <thead>\n",
       "    <tr style=\"text-align: right;\">\n",
       "      <th></th>\n",
       "      <th>job_id</th>\n",
       "      <th>job_guid</th>\n",
       "      <th>job_name</th>\n",
       "      <th>receive_time</th>\n",
       "      <th>update_time</th>\n",
       "      <th>status</th>\n",
       "      <th>user_name</th>\n",
       "      <th>user_email</th>\n",
       "    </tr>\n",
       "  </thead>\n",
       "  <tbody>\n",
       "  </tbody>\n",
       "</table>\n",
       "</div>"
      ],
      "text/plain": [
       "Empty DataFrame\n",
       "Columns: [job_id, job_guid, job_name, receive_time, update_time, status, user_name, user_email]\n",
       "Index: []"
      ]
     },
     "metadata": {},
     "execution_count": 3
    }
   ],
   "metadata": {}
  },
  {
   "cell_type": "markdown",
   "source": [
    "## Job parameters"
   ],
   "metadata": {}
  },
  {
   "cell_type": "code",
   "execution_count": null,
   "source": [
    "ret = PatJob.get_job_para(100000088)\r\n",
    "if ret:\r\n",
    "    print(json.dumps(json.loads(ret),indent=4))\r\n"
   ],
   "outputs": [],
   "metadata": {}
  },
  {
   "cell_type": "markdown",
   "source": [
    "## Result summary "
   ],
   "metadata": {}
  },
  {
   "cell_type": "code",
   "execution_count": null,
   "source": [
    "ret = PatJob.get_summary(100000088)\r\n",
    "if ret is not None:\r\n",
    "    display(pd.DataFrame(json.loads(ret)))\r\n"
   ],
   "outputs": [],
   "metadata": {}
  },
  {
   "cell_type": "markdown",
   "source": [
    "## Results"
   ],
   "metadata": {}
  },
  {
   "cell_type": "code",
   "execution_count": null,
   "source": [
    "ret = PatJob.get_results(100000088)\r\n",
    "if ret is not None:\r\n",
    "    display(pd.DataFrame(json.loads(ret)))\r\n"
   ],
   "outputs": [],
   "metadata": {}
  },
  {
   "cell_type": "markdown",
   "source": [
    "## Validation data"
   ],
   "metadata": {}
  },
  {
   "cell_type": "code",
   "execution_count": null,
   "source": [
    "df1,df2,df3 = PatJob.get_validation_data(100000088)\r\n",
    "print(len(df1), len(df2), len(df3))"
   ],
   "outputs": [],
   "metadata": {}
  },
  {
   "cell_type": "code",
   "execution_count": null,
   "source": [
    "df2"
   ],
   "outputs": [],
   "metadata": {}
  },
  {
   "cell_type": "markdown",
   "source": [
    "# Create New Job "
   ],
   "metadata": {}
  },
  {
   "cell_type": "code",
   "execution_count": 4,
   "source": [
    "job_para = json.load(open('data/pat_job_test.json'))\r\n",
    "job_para['job_guid']=str(uuid.uuid4())\r\n",
    "\r\n",
    "job = PatJob(job_para)\r\n",
    "job.job_id"
   ],
   "outputs": [
    {
     "output_type": "stream",
     "name": "stderr",
     "text": [
      "2021-09-30 19:01:23,117 [100000113] (INFO): Start processing job: d0fde339-2b0d-4cce-9f4d-dd0fb37cb4f3\n",
      "2021-09-30 19:01:23,118 [100000113] (INFO): parameter: {\n",
      "    \"additional_coverage\": 2,\n",
      "    \"analysisid\": 5,\n",
      "    \"average_accident_date\": \"1/1/2022\",\n",
      "    \"coverage\": \"Building + Contents + Time Element\",\n",
      "    \"deductible_treatment\": \"Retains Limit\",\n",
      "    \"edm_database\": \"RMS_EPL_AIG_PAT_Testing_202107_EDM181\",\n",
      "    \"error_action\": \"continue\",\n",
      "    \"job_guid\": \"d0fde339-2b0d-4cce-9f4d-dd0fb37cb4f3\",\n",
      "    \"job_name\": \"PAT_Test_AIG\",\n",
      "    \"loss_alae_ratio\": 1,\n",
      "    \"peril_subline\": \"All_Perils\",\n",
      "    \"perilid\": 5,\n",
      "    \"portinfoid\": 6,\n",
      "    \"rdm_database\": \"RMS_EPL_AIG_PAT_Testing_202107_RDM181\",\n",
      "    \"server\": \"DFWCAT-RMS5SQL1\",\n",
      "    \"subject_premium\": 100000000.0,\n",
      "    \"trend_factor\": 1.035,\n",
      "    \"type_of_rating\": \"PSOLD\",\n",
      "    \"user_email\": \"chengyou.xiao@guycarp.com\",\n",
      "    \"user_name\": \"cxiao\"\n",
      "}\n"
     ]
    },
    {
     "output_type": "execute_result",
     "data": {
      "text/plain": [
       "100000113"
      ]
     },
     "metadata": {},
     "execution_count": 4
    }
   ],
   "metadata": {}
  },
  {
   "cell_type": "markdown",
   "source": [
    "# Process"
   ],
   "metadata": {}
  },
  {
   "cell_type": "code",
   "execution_count": 5,
   "source": [
    "job.perform_analysis()"
   ],
   "outputs": [
    {
     "output_type": "stream",
     "name": "stderr",
     "text": [
      "2021-09-30 19:01:29,658 [100000113] (INFO): Import data...\n"
     ]
    },
    {
     "output_type": "stream",
     "name": "stdout",
     "text": [
      "\n",
      "Starting copy...\n",
      "1000 rows sent to SQL Server. Total sent: 1000\n",
      "1000 rows sent to SQL Server. Total sent: 2000\n",
      "1000 rows sent to SQL Server. Total sent: 3000\n",
      "1000 rows sent to SQL Server. Total sent: 4000\n",
      "1000 rows sent to SQL Server. Total sent: 5000\n",
      "1000 rows sent to SQL Server. Total sent: 6000\n",
      "1000 rows sent to SQL Server. Total sent: 7000\n",
      "1000 rows sent to SQL Server. Total sent: 8000\n",
      "1000 rows sent to SQL Server. Total sent: 9000\n",
      "1000 rows sent to SQL Server. Total sent: 10000\n",
      "1000 rows sent to SQL Server. Total sent: 11000\n",
      "1000 rows sent to SQL Server. Total sent: 12000\n",
      "1000 rows sent to SQL Server. Total sent: 13000\n",
      "1000 rows sent to SQL Server. Total sent: 14000\n",
      "1000 rows sent to SQL Server. Total sent: 15000\n",
      "1000 rows sent to SQL Server. Total sent: 16000\n",
      "1000 rows sent to SQL Server. Total sent: 17000\n",
      "1000 rows sent to SQL Server. Total sent: 18000\n",
      "1000 rows sent to SQL Server. Total sent: 19000\n",
      "1000 rows sent to SQL Server. Total sent: 20000\n",
      "\n",
      "20996 rows copied.\n",
      "Network packet size (bytes): 4096\n",
      "Clock Time (ms.) Total     : 688    Average : (30517.44 rows per sec.)\n",
      "\n",
      "Starting copy...\n",
      "1000 rows sent to SQL Server. Total sent: 1000\n",
      "1000 rows sent to SQL Server. Total sent: 2000\n",
      "1000 rows sent to SQL Server. Total sent: 3000\n",
      "1000 rows sent to SQL Server. Total sent: 4000\n",
      "1000 rows sent to SQL Server. Total sent: 5000\n",
      "1000 rows sent to SQL Server. Total sent: 6000\n",
      "1000 rows sent to SQL Server. Total sent: 7000\n",
      "1000 rows sent to SQL Server. Total sent: 8000\n",
      "1000 rows sent to SQL Server. Total sent: 9000\n",
      "1000 rows sent to SQL Server. Total sent: 10000\n",
      "1000 rows sent to SQL Server. Total sent: 11000\n",
      "1000 rows sent to SQL Server. Total sent: 12000\n",
      "1000 rows sent to SQL Server. Total sent: 13000\n",
      "1000 rows sent to SQL Server. Total sent: 14000\n",
      "1000 rows sent to SQL Server. Total sent: 15000\n",
      "1000 rows sent to SQL Server. Total sent: 16000\n",
      "1000 rows sent to SQL Server. Total sent: 17000\n",
      "1000 rows sent to SQL Server. Total sent: 18000\n",
      "1000 rows sent to SQL Server. Total sent: 19000\n",
      "1000 rows sent to SQL Server. Total sent: 20000\n",
      "\n",
      "20996 rows copied.\n",
      "Network packet size (bytes): 4096\n",
      "Clock Time (ms.) Total     : 547    Average : (38383.91 rows per sec.)\n",
      "\n",
      "Starting copy...\n",
      "1000 rows sent to SQL Server. Total sent: 1000\n",
      "1000 rows sent to SQL Server. Total sent: 2000\n",
      "1000 rows sent to SQL Server. Total sent: 3000\n",
      "1000 rows sent to SQL Server. Total sent: 4000\n",
      "1000 rows sent to SQL Server. Total sent: 5000\n",
      "1000 rows sent to SQL Server. Total sent: 6000\n",
      "1000 rows sent to SQL Server. Total sent: 7000\n",
      "1000 rows sent to SQL Server. Total sent: 8000\n",
      "1000 rows sent to SQL Server. Total sent: 9000\n",
      "1000 rows sent to SQL Server. Total sent: 10000\n",
      "1000 rows sent to SQL Server. Total sent: 11000\n",
      "1000 rows sent to SQL Server. Total sent: 12000\n",
      "1000 rows sent to SQL Server. Total sent: 13000\n",
      "1000 rows sent to SQL Server. Total sent: 14000\n",
      "1000 rows sent to SQL Server. Total sent: 15000\n",
      "1000 rows sent to SQL Server. Total sent: 16000\n",
      "1000 rows sent to SQL Server. Total sent: 17000\n",
      "1000 rows sent to SQL Server. Total sent: 18000\n",
      "1000 rows sent to SQL Server. Total sent: 19000\n",
      "1000 rows sent to SQL Server. Total sent: 20000\n",
      "1000 rows sent to SQL Server. Total sent: 21000\n",
      "1000 rows sent to SQL Server. Total sent: 22000\n",
      "1000 rows sent to SQL Server. Total sent: 23000\n",
      "1000 rows sent to SQL Server. Total sent: 24000\n",
      "1000 rows sent to SQL Server. Total sent: 25000\n",
      "1000 rows sent to SQL Server. Total sent: 26000\n",
      "1000 rows sent to SQL Server. Total sent: 27000\n",
      "1000 rows sent to SQL Server. Total sent: 28000\n",
      "1000 rows sent to SQL Server. Total sent: 29000\n",
      "1000 rows sent to SQL Server. Total sent: 30000\n",
      "1000 rows sent to SQL Server. Total sent: 31000\n",
      "1000 rows sent to SQL Server. Total sent: 32000\n",
      "1000 rows sent to SQL Server. Total sent: 33000\n",
      "1000 rows sent to SQL Server. Total sent: 34000\n",
      "1000 rows sent to SQL Server. Total sent: 35000\n",
      "1000 rows sent to SQL Server. Total sent: 36000\n",
      "1000 rows sent to SQL Server. Total sent: 37000\n",
      "1000 rows sent to SQL Server. Total sent: 38000\n",
      "1000 rows sent to SQL Server. Total sent: 39000\n",
      "1000 rows sent to SQL Server. Total sent: 40000\n",
      "1000 rows sent to SQL Server. Total sent: 41000\n",
      "1000 rows sent to SQL Server. Total sent: 42000\n",
      "1000 rows sent to SQL Server. Total sent: 43000\n",
      "1000 rows sent to SQL Server. Total sent: 44000\n",
      "1000 rows sent to SQL Server. Total sent: 45000\n",
      "1000 rows sent to SQL Server. Total sent: 46000\n",
      "1000 rows sent to SQL Server. Total sent: 47000\n",
      "1000 rows sent to SQL Server. Total sent: 48000\n",
      "1000 rows sent to SQL Server. Total sent: 49000\n",
      "1000 rows sent to SQL Server. Total sent: 50000\n",
      "1000 rows sent to SQL Server. Total sent: 51000\n",
      "1000 rows sent to SQL Server. Total sent: 52000\n",
      "1000 rows sent to SQL Server. Total sent: 53000\n",
      "1000 rows sent to SQL Server. Total sent: 54000\n",
      "1000 rows sent to SQL Server. Total sent: 55000\n",
      "1000 rows sent to SQL Server. Total sent: 56000\n",
      "1000 rows sent to SQL Server. Total sent: 57000\n",
      "1000 rows sent to SQL Server. Total sent: 58000\n",
      "1000 rows sent to SQL Server. Total sent: 59000\n",
      "1000 rows sent to SQL Server. Total sent: 60000\n",
      "1000 rows sent to SQL Server. Total sent: 61000\n",
      "1000 rows sent to SQL Server. Total sent: 62000\n",
      "1000 rows sent to SQL Server. Total sent: 63000\n",
      "1000 rows sent to SQL Server. Total sent: 64000\n",
      "1000 rows sent to SQL Server. Total sent: 65000\n",
      "1000 rows sent to SQL Server. Total sent: 66000\n",
      "1000 rows sent to SQL Server. Total sent: 67000\n",
      "1000 rows sent to SQL Server. Total sent: 68000\n",
      "1000 rows sent to SQL Server. Total sent: 69000\n",
      "1000 rows sent to SQL Server. Total sent: 70000\n",
      "1000 rows sent to SQL Server. Total sent: 71000\n",
      "1000 rows sent to SQL Server. Total sent: 72000\n",
      "1000 rows sent to SQL Server. Total sent: 73000\n",
      "1000 rows sent to SQL Server. Total sent: 74000\n",
      "1000 rows sent to SQL Server. Total sent: 75000\n",
      "1000 rows sent to SQL Server. Total sent: 76000\n",
      "1000 rows sent to SQL Server. Total sent: 77000\n",
      "1000 rows sent to SQL Server. Total sent: 78000\n",
      "1000 rows sent to SQL Server. Total sent: 79000\n",
      "1000 rows sent to SQL Server. Total sent: 80000\n",
      "1000 rows sent to SQL Server. Total sent: 81000\n",
      "1000 rows sent to SQL Server. Total sent: 82000\n",
      "1000 rows sent to SQL Server. Total sent: 83000\n",
      "1000 rows sent to SQL Server. Total sent: 84000\n",
      "1000 rows sent to SQL Server. Total sent: 85000\n",
      "1000 rows sent to SQL Server. Total sent: 86000\n",
      "1000 rows sent to SQL Server. Total sent: 87000\n",
      "1000 rows sent to SQL Server. Total sent: 88000\n",
      "1000 rows sent to SQL Server. Total sent: 89000\n",
      "1000 rows sent to SQL Server. Total sent: 90000\n",
      "1000 rows sent to SQL Server. Total sent: 91000\n",
      "1000 rows sent to SQL Server. Total sent: 92000\n",
      "1000 rows sent to SQL Server. Total sent: 93000\n",
      "1000 rows sent to SQL Server. Total sent: 94000\n",
      "1000 rows sent to SQL Server. Total sent: 95000\n",
      "1000 rows sent to SQL Server. Total sent: 96000\n",
      "1000 rows sent to SQL Server. Total sent: 97000\n",
      "1000 rows sent to SQL Server. Total sent: 98000\n",
      "1000 rows sent to SQL Server. Total sent: 99000\n",
      "1000 rows sent to SQL Server. Total sent: 100000\n",
      "1000 rows sent to SQL Server. Total sent: 101000\n",
      "1000 rows sent to SQL Server. Total sent: 102000\n",
      "1000 rows sent to SQL Server. Total sent: 103000\n",
      "1000 rows sent to SQL Server. Total sent: 104000\n",
      "1000 rows sent to SQL Server. Total sent: 105000\n",
      "1000 rows sent to SQL Server. Total sent: 106000\n",
      "1000 rows sent to SQL Server. Total sent: 107000\n",
      "1000 rows sent to SQL Server. Total sent: 108000\n",
      "1000 rows sent to SQL Server. Total sent: 109000\n",
      "1000 rows sent to SQL Server. Total sent: 110000\n",
      "1000 rows sent to SQL Server. Total sent: 111000\n",
      "1000 rows sent to SQL Server. Total sent: 112000\n",
      "1000 rows sent to SQL Server. Total sent: 113000\n",
      "1000 rows sent to SQL Server. Total sent: 114000\n",
      "1000 rows sent to SQL Server. Total sent: 115000\n",
      "1000 rows sent to SQL Server. Total sent: 116000\n",
      "1000 rows sent to SQL Server. Total sent: 117000\n",
      "1000 rows sent to SQL Server. Total sent: 118000\n",
      "1000 rows sent to SQL Server. Total sent: 119000\n",
      "1000 rows sent to SQL Server. Total sent: 120000\n",
      "1000 rows sent to SQL Server. Total sent: 121000\n",
      "1000 rows sent to SQL Server. Total sent: 122000\n",
      "1000 rows sent to SQL Server. Total sent: 123000\n",
      "1000 rows sent to SQL Server. Total sent: 124000\n",
      "1000 rows sent to SQL Server. Total sent: 125000\n",
      "1000 rows sent to SQL Server. Total sent: 126000\n",
      "1000 rows sent to SQL Server. Total sent: 127000\n",
      "1000 rows sent to SQL Server. Total sent: 128000\n",
      "1000 rows sent to SQL Server. Total sent: 129000\n",
      "1000 rows sent to SQL Server. Total sent: 130000\n",
      "1000 rows sent to SQL Server. Total sent: 131000\n",
      "1000 rows sent to SQL Server. Total sent: 132000\n",
      "1000 rows sent to SQL Server. Total sent: 133000\n",
      "1000 rows sent to SQL Server. Total sent: 134000\n",
      "1000 rows sent to SQL Server. Total sent: 135000\n",
      "1000 rows sent to SQL Server. Total sent: 136000\n",
      "1000 rows sent to SQL Server. Total sent: 137000\n",
      "1000 rows sent to SQL Server. Total sent: 138000\n",
      "1000 rows sent to SQL Server. Total sent: 139000\n",
      "1000 rows sent to SQL Server. Total sent: 140000\n",
      "1000 rows sent to SQL Server. Total sent: 141000\n",
      "1000 rows sent to SQL Server. Total sent: 142000\n",
      "1000 rows sent to SQL Server. Total sent: 143000\n",
      "1000 rows sent to SQL Server. Total sent: 144000\n",
      "1000 rows sent to SQL Server. Total sent: 145000\n",
      "1000 rows sent to SQL Server. Total sent: 146000\n",
      "1000 rows sent to SQL Server. Total sent: 147000\n",
      "1000 rows sent to SQL Server. Total sent: 148000\n",
      "1000 rows sent to SQL Server. Total sent: 149000\n",
      "1000 rows sent to SQL Server. Total sent: 150000\n",
      "1000 rows sent to SQL Server. Total sent: 151000\n",
      "1000 rows sent to SQL Server. Total sent: 152000\n",
      "1000 rows sent to SQL Server. Total sent: 153000\n",
      "1000 rows sent to SQL Server. Total sent: 154000\n",
      "1000 rows sent to SQL Server. Total sent: 155000\n",
      "1000 rows sent to SQL Server. Total sent: 156000\n",
      "1000 rows sent to SQL Server. Total sent: 157000\n",
      "1000 rows sent to SQL Server. Total sent: 158000\n",
      "1000 rows sent to SQL Server. Total sent: 159000\n",
      "1000 rows sent to SQL Server. Total sent: 160000\n",
      "1000 rows sent to SQL Server. Total sent: 161000\n",
      "1000 rows sent to SQL Server. Total sent: 162000\n",
      "1000 rows sent to SQL Server. Total sent: 163000\n",
      "1000 rows sent to SQL Server. Total sent: 164000\n",
      "1000 rows sent to SQL Server. Total sent: 165000\n",
      "1000 rows sent to SQL Server. Total sent: 166000\n",
      "1000 rows sent to SQL Server. Total sent: 167000\n",
      "1000 rows sent to SQL Server. Total sent: 168000\n",
      "1000 rows sent to SQL Server. Total sent: 169000\n",
      "1000 rows sent to SQL Server. Total sent: 170000\n",
      "1000 rows sent to SQL Server. Total sent: 171000\n",
      "1000 rows sent to SQL Server. Total sent: 172000\n",
      "1000 rows sent to SQL Server. Total sent: 173000\n",
      "1000 rows sent to SQL Server. Total sent: 174000\n",
      "1000 rows sent to SQL Server. Total sent: 175000\n",
      "1000 rows sent to SQL Server. Total sent: 176000\n",
      "1000 rows sent to SQL Server. Total sent: 177000\n",
      "1000 rows sent to SQL Server. Total sent: 178000\n",
      "1000 rows sent to SQL Server. Total sent: 179000\n",
      "1000 rows sent to SQL Server. Total sent: 180000\n",
      "1000 rows sent to SQL Server. Total sent: 181000\n",
      "1000 rows sent to SQL Server. Total sent: 182000\n",
      "1000 rows sent to SQL Server. Total sent: 183000\n",
      "1000 rows sent to SQL Server. Total sent: 184000\n",
      "1000 rows sent to SQL Server. Total sent: 185000\n",
      "1000 rows sent to SQL Server. Total sent: 186000\n",
      "1000 rows sent to SQL Server. Total sent: 187000\n",
      "1000 rows sent to SQL Server. Total sent: 188000\n",
      "1000 rows sent to SQL Server. Total sent: 189000\n",
      "1000 rows sent to SQL Server. Total sent: 190000\n",
      "1000 rows sent to SQL Server. Total sent: 191000\n",
      "\n",
      "191635 rows copied.\n",
      "Network packet size (bytes): 4096\n",
      "Clock Time (ms.) Total     : 1468   Average : (130541.55 rows per sec.)\n"
     ]
    },
    {
     "output_type": "stream",
     "name": "stderr",
     "text": [
      "2021-09-30 19:01:51,974 [100000113] (INFO): Import data...OK\n",
      "2021-09-30 19:01:52,467 [100000113] (WARNING): Skip erroneous data and continue\n",
      "2021-09-30 19:01:52,469 [100000113] (INFO): create the net of FAC layer stack ...\n",
      "2021-09-30 19:01:57,070 [100000113] (INFO): create the net of FAC layer stack...OK\n",
      "2021-09-30 19:01:57,347 [100000113] (INFO): Allocate premium with PSOLD...\n",
      "2021-09-30 19:02:08,922 [100000113] (INFO): Allocate premium with PSOLD...OK\n",
      "2021-09-30 19:02:09,917 [100000113] (INFO): Save results to database...\n"
     ]
    },
    {
     "output_type": "stream",
     "name": "stdout",
     "text": [
      "\n",
      "Starting copy...\n",
      "1000 rows sent to SQL Server. Total sent: 1000\n",
      "1000 rows sent to SQL Server. Total sent: 2000\n",
      "1000 rows sent to SQL Server. Total sent: 3000\n",
      "1000 rows sent to SQL Server. Total sent: 4000\n",
      "1000 rows sent to SQL Server. Total sent: 5000\n",
      "1000 rows sent to SQL Server. Total sent: 6000\n",
      "1000 rows sent to SQL Server. Total sent: 7000\n",
      "1000 rows sent to SQL Server. Total sent: 8000\n",
      "1000 rows sent to SQL Server. Total sent: 9000\n",
      "1000 rows sent to SQL Server. Total sent: 10000\n",
      "1000 rows sent to SQL Server. Total sent: 11000\n",
      "1000 rows sent to SQL Server. Total sent: 12000\n",
      "1000 rows sent to SQL Server. Total sent: 13000\n",
      "1000 rows sent to SQL Server. Total sent: 14000\n",
      "1000 rows sent to SQL Server. Total sent: 15000\n",
      "1000 rows sent to SQL Server. Total sent: 16000\n",
      "1000 rows sent to SQL Server. Total sent: 17000\n",
      "1000 rows sent to SQL Server. Total sent: 18000\n",
      "1000 rows sent to SQL Server. Total sent: 19000\n",
      "1000 rows sent to SQL Server. Total sent: 20000\n",
      "1000 rows sent to SQL Server. Total sent: 21000\n",
      "1000 rows sent to SQL Server. Total sent: 22000\n",
      "1000 rows sent to SQL Server. Total sent: 23000\n",
      "1000 rows sent to SQL Server. Total sent: 24000\n",
      "1000 rows sent to SQL Server. Total sent: 25000\n",
      "1000 rows sent to SQL Server. Total sent: 26000\n",
      "1000 rows sent to SQL Server. Total sent: 27000\n",
      "1000 rows sent to SQL Server. Total sent: 28000\n",
      "1000 rows sent to SQL Server. Total sent: 29000\n",
      "1000 rows sent to SQL Server. Total sent: 30000\n",
      "1000 rows sent to SQL Server. Total sent: 31000\n",
      "1000 rows sent to SQL Server. Total sent: 32000\n",
      "1000 rows sent to SQL Server. Total sent: 33000\n",
      "1000 rows sent to SQL Server. Total sent: 34000\n",
      "1000 rows sent to SQL Server. Total sent: 35000\n",
      "1000 rows sent to SQL Server. Total sent: 36000\n",
      "1000 rows sent to SQL Server. Total sent: 37000\n",
      "1000 rows sent to SQL Server. Total sent: 38000\n",
      "1000 rows sent to SQL Server. Total sent: 39000\n",
      "1000 rows sent to SQL Server. Total sent: 40000\n",
      "1000 rows sent to SQL Server. Total sent: 41000\n",
      "1000 rows sent to SQL Server. Total sent: 42000\n",
      "1000 rows sent to SQL Server. Total sent: 43000\n",
      "1000 rows sent to SQL Server. Total sent: 44000\n",
      "1000 rows sent to SQL Server. Total sent: 45000\n",
      "1000 rows sent to SQL Server. Total sent: 46000\n",
      "1000 rows sent to SQL Server. Total sent: 47000\n",
      "1000 rows sent to SQL Server. Total sent: 48000\n",
      "1000 rows sent to SQL Server. Total sent: 49000\n",
      "1000 rows sent to SQL Server. Total sent: 50000\n",
      "1000 rows sent to SQL Server. Total sent: 51000\n",
      "1000 rows sent to SQL Server. Total sent: 52000\n",
      "1000 rows sent to SQL Server. Total sent: 53000\n",
      "1000 rows sent to SQL Server. Total sent: 54000\n",
      "1000 rows sent to SQL Server. Total sent: 55000\n",
      "1000 rows sent to SQL Server. Total sent: 56000\n",
      "1000 rows sent to SQL Server. Total sent: 57000\n",
      "1000 rows sent to SQL Server. Total sent: 58000\n",
      "1000 rows sent to SQL Server. Total sent: 59000\n",
      "1000 rows sent to SQL Server. Total sent: 60000\n",
      "1000 rows sent to SQL Server. Total sent: 61000\n",
      "1000 rows sent to SQL Server. Total sent: 62000\n",
      "1000 rows sent to SQL Server. Total sent: 63000\n",
      "1000 rows sent to SQL Server. Total sent: 64000\n",
      "1000 rows sent to SQL Server. Total sent: 65000\n",
      "1000 rows sent to SQL Server. Total sent: 66000\n",
      "1000 rows sent to SQL Server. Total sent: 67000\n",
      "1000 rows sent to SQL Server. Total sent: 68000\n",
      "1000 rows sent to SQL Server. Total sent: 69000\n",
      "1000 rows sent to SQL Server. Total sent: 70000\n",
      "1000 rows sent to SQL Server. Total sent: 71000\n",
      "1000 rows sent to SQL Server. Total sent: 72000\n",
      "1000 rows sent to SQL Server. Total sent: 73000\n",
      "1000 rows sent to SQL Server. Total sent: 74000\n",
      "1000 rows sent to SQL Server. Total sent: 75000\n",
      "1000 rows sent to SQL Server. Total sent: 76000\n",
      "1000 rows sent to SQL Server. Total sent: 77000\n",
      "1000 rows sent to SQL Server. Total sent: 78000\n",
      "1000 rows sent to SQL Server. Total sent: 79000\n",
      "1000 rows sent to SQL Server. Total sent: 80000\n",
      "1000 rows sent to SQL Server. Total sent: 81000\n",
      "1000 rows sent to SQL Server. Total sent: 82000\n",
      "1000 rows sent to SQL Server. Total sent: 83000\n",
      "1000 rows sent to SQL Server. Total sent: 84000\n",
      "1000 rows sent to SQL Server. Total sent: 85000\n"
     ]
    },
    {
     "output_type": "stream",
     "name": "stderr",
     "text": [
      "2021-09-30 19:02:22,401 [100000113] (INFO): Save results to database...OK\n"
     ]
    },
    {
     "output_type": "stream",
     "name": "stdout",
     "text": [
      "1000 rows sent to SQL Server. Total sent: 86000\n",
      "1000 rows sent to SQL Server. Total sent: 87000\n",
      "1000 rows sent to SQL Server. Total sent: 88000\n",
      "1000 rows sent to SQL Server. Total sent: 89000\n",
      "1000 rows sent to SQL Server. Total sent: 90000\n",
      "1000 rows sent to SQL Server. Total sent: 91000\n",
      "1000 rows sent to SQL Server. Total sent: 92000\n",
      "1000 rows sent to SQL Server. Total sent: 93000\n",
      "1000 rows sent to SQL Server. Total sent: 94000\n",
      "1000 rows sent to SQL Server. Total sent: 95000\n",
      "1000 rows sent to SQL Server. Total sent: 96000\n",
      "1000 rows sent to SQL Server. Total sent: 97000\n",
      "1000 rows sent to SQL Server. Total sent: 98000\n",
      "1000 rows sent to SQL Server. Total sent: 99000\n",
      "1000 rows sent to SQL Server. Total sent: 100000\n",
      "1000 rows sent to SQL Server. Total sent: 101000\n",
      "\n",
      "101757 rows copied.\n",
      "Network packet size (bytes): 4096\n",
      "Clock Time (ms.) Total     : 9688   Average : (10503.41 rows per sec.)\n"
     ]
    },
    {
     "output_type": "stream",
     "name": "stderr",
     "text": [
      "2021-09-30 19:02:23,137 [100000113] (INFO): Finished!\n"
     ]
    }
   ],
   "metadata": {}
  },
  {
   "cell_type": "markdown",
   "source": [
    "# Testing"
   ],
   "metadata": {}
  },
  {
   "cell_type": "code",
   "execution_count": null,
   "source": [
    "\r\n",
    "import json\r\n",
    "import numpy as np\r\n",
    "import pandas as pd\r\n",
    "\r\n",
    "import pyodbc\r\n",
    "from bcpandas import SqlCreds, to_sql\r\n",
    "\r\n",
    "df = pd.read_csv('data/psold_aoi.csv')\r\n",
    "\r\n",
    "creds = SqlCreds(AppSettings.PAT_JOB_SVR, AppSettings.PAT_JOB_DB, AppSettings.PAT_JOB_USR, AppSettings.PAT_JOB_PWD)\r\n",
    "to_sql(df,'psold_aoi', creds, index=False, if_exists='append') "
   ],
   "outputs": [],
   "metadata": {}
  },
  {
   "cell_type": "code",
   "execution_count": null,
   "source": [
    "job_conn = f'''DRIVER={{SQL Server}};Server={AppSettings.PAT_JOB_SVR};Database={AppSettings.PAT_JOB_DB};\r\n",
    "            User Id={AppSettings.PAT_JOB_USR};Password={AppSettings.PAT_JOB_PWD};\r\n",
    "            MultipleActiveResultSets=true;'''\r\n",
    "with pyodbc.connect(job_conn) as conn:\r\n",
    "             dfHPR = pd.read_sql_query(f\"\"\"select * from psold_hpr order by limit\"\"\", conn)\r\n",
    "dfHPR"
   ],
   "outputs": [],
   "metadata": {}
  }
 ],
 "metadata": {
  "interpreter": {
   "hash": "127074f8ccc7e6be4e4813583b3c2191c4b36279ad1345c0e84a925cf005a6c8"
  },
  "kernelspec": {
   "name": "python3",
   "display_name": "Python 3.8.8 64-bit ('premium-allocation-tool--jsZs_J2-py3.8': poetry)"
  },
  "language_info": {
   "codemirror_mode": {
    "name": "ipython",
    "version": 3
   },
   "file_extension": ".py",
   "mimetype": "text/x-python",
   "name": "python",
   "nbconvert_exporter": "python",
   "pygments_lexer": "ipython3",
   "version": "3.8.8"
  }
 },
 "nbformat": 4,
 "nbformat_minor": 4
}