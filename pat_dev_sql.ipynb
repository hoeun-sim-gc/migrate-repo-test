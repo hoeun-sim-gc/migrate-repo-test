{
 "cells": [
  {
   "cell_type": "markdown",
   "metadata": {},
   "source": [
    "# Premium Allocation Tool"
   ]
  },
  {
   "cell_type": "code",
   "execution_count": 1,
   "metadata": {},
   "outputs": [],
   "source": [
    "import numpy as np\n",
    "import pandas as pd\n",
    "import json\n",
    "import uuid  \n",
    "\n",
    "from pat_sql import PatJob\n",
    "from pat_common import PatFlag, AppSettings"
   ]
  },
  {
   "cell_type": "markdown",
   "metadata": {},
   "source": [
    "# Get job list \n"
   ]
  },
  {
   "cell_type": "markdown",
   "metadata": {},
   "source": [
    "## Delete Job"
   ]
  },
  {
   "cell_type": "code",
   "execution_count": 6,
   "metadata": {},
   "outputs": [
    {
     "data": {
      "text/html": [
       "<div>\n",
       "<style scoped>\n",
       "    .dataframe tbody tr th:only-of-type {\n",
       "        vertical-align: middle;\n",
       "    }\n",
       "\n",
       "    .dataframe tbody tr th {\n",
       "        vertical-align: top;\n",
       "    }\n",
       "\n",
       "    .dataframe thead th {\n",
       "        text-align: right;\n",
       "    }\n",
       "</style>\n",
       "<table border=\"1\" class=\"dataframe\">\n",
       "  <thead>\n",
       "    <tr style=\"text-align: right;\">\n",
       "      <th></th>\n",
       "      <th>job_id</th>\n",
       "      <th>job_guid</th>\n",
       "      <th>job_name</th>\n",
       "      <th>receive_time</th>\n",
       "      <th>update_time</th>\n",
       "      <th>status</th>\n",
       "      <th>user_name</th>\n",
       "      <th>user_email</th>\n",
       "    </tr>\n",
       "  </thead>\n",
       "  <tbody>\n",
       "    <tr>\n",
       "      <th>0</th>\n",
       "      <td>100000066</td>\n",
       "      <td>f76371b2-40c0-41de-bb3e-876bb61d7c59          ...</td>\n",
       "      <td>Chubb_2021_MAP_try</td>\n",
       "      <td>2021-10-24T19:33:10.648260</td>\n",
       "      <td>2021-10-24T19:40:26.967012</td>\n",
       "      <td>finished</td>\n",
       "      <td>Chengyou</td>\n",
       "      <td>chengyou.xiao@guycarp.com</td>\n",
       "    </tr>\n",
       "    <tr>\n",
       "      <th>1</th>\n",
       "      <td>100000049</td>\n",
       "      <td>d1bfecd3-bf6b-456c-95f1-4e6ce23fa75c          ...</td>\n",
       "      <td>Chubb_2021_MAP_try</td>\n",
       "      <td>2021-10-24T19:07:56.029022</td>\n",
       "      <td>2021-10-24T19:13:58.324780</td>\n",
       "      <td>finished</td>\n",
       "      <td>Chengyou</td>\n",
       "      <td>chengyou.xiao@guycarp.com</td>\n",
       "    </tr>\n",
       "    <tr>\n",
       "      <th>2</th>\n",
       "      <td>100000027</td>\n",
       "      <td>fefed966-519e-46aa-9451-00d47e347099          ...</td>\n",
       "      <td>PAT_Test_AIG_with_correction</td>\n",
       "      <td>2021-10-24T03:12:07.614655</td>\n",
       "      <td>2021-10-24T03:16:28.131710</td>\n",
       "      <td>finished</td>\n",
       "      <td>cxiao</td>\n",
       "      <td>chengyou.xiao@guycarp.com</td>\n",
       "    </tr>\n",
       "    <tr>\n",
       "      <th>3</th>\n",
       "      <td>100000009</td>\n",
       "      <td>5085872a-385f-4303-89b5-ddd513d3ba73          ...</td>\n",
       "      <td>PAT_Test_AIG</td>\n",
       "      <td>2021-10-24T02:59:22.573403</td>\n",
       "      <td>2021-10-24T03:00:33.169961</td>\n",
       "      <td>finished</td>\n",
       "      <td>cxiao</td>\n",
       "      <td>chengyou.xiao@guycarp.com</td>\n",
       "    </tr>\n",
       "  </tbody>\n",
       "</table>\n",
       "</div>"
      ],
      "text/plain": [
       "      job_id                                           job_guid  \\\n",
       "0  100000066  f76371b2-40c0-41de-bb3e-876bb61d7c59          ...   \n",
       "1  100000049  d1bfecd3-bf6b-456c-95f1-4e6ce23fa75c          ...   \n",
       "2  100000027  fefed966-519e-46aa-9451-00d47e347099          ...   \n",
       "3  100000009  5085872a-385f-4303-89b5-ddd513d3ba73          ...   \n",
       "\n",
       "                       job_name                receive_time  \\\n",
       "0            Chubb_2021_MAP_try  2021-10-24T19:33:10.648260   \n",
       "1            Chubb_2021_MAP_try  2021-10-24T19:07:56.029022   \n",
       "2  PAT_Test_AIG_with_correction  2021-10-24T03:12:07.614655   \n",
       "3                  PAT_Test_AIG  2021-10-24T02:59:22.573403   \n",
       "\n",
       "                  update_time    status user_name                 user_email  \n",
       "0  2021-10-24T19:40:26.967012  finished  Chengyou  chengyou.xiao@guycarp.com  \n",
       "1  2021-10-24T19:13:58.324780  finished  Chengyou  chengyou.xiao@guycarp.com  \n",
       "2  2021-10-24T03:16:28.131710  finished     cxiao  chengyou.xiao@guycarp.com  \n",
       "3  2021-10-24T03:00:33.169961  finished     cxiao  chengyou.xiao@guycarp.com  "
      ]
     },
     "execution_count": 6,
     "metadata": {},
     "output_type": "execute_result"
    }
   ],
   "source": [
    "# pd.DataFrame(json.loads(PatJob.get_job_list()))\n",
    "lst= [a for a in range(100000150, 100000170)]\n",
    "PatJob.delete(*lst)"
   ]
  },
  {
   "cell_type": "markdown",
   "metadata": {},
   "source": [
    "## Job parameters"
   ]
  },
  {
   "cell_type": "code",
   "execution_count": null,
   "metadata": {},
   "outputs": [],
   "source": [
    "ret = PatJob.get_job_para(100000197)\n",
    "if ret:\n",
    "    print(json.dumps(json.loads(ret),indent=4))\n"
   ]
  },
  {
   "cell_type": "markdown",
   "metadata": {},
   "source": [
    "## Result summary "
   ]
  },
  {
   "cell_type": "code",
   "execution_count": null,
   "metadata": {},
   "outputs": [],
   "source": [
    "df = PatJob.get_summary(100000197)\n",
    "df"
   ]
  },
  {
   "cell_type": "markdown",
   "metadata": {},
   "source": [
    "## Results"
   ]
  },
  {
   "cell_type": "code",
   "execution_count": null,
   "metadata": {},
   "outputs": [],
   "source": [
    "df = PatJob.get_results(100000197)\n",
    "df"
   ]
  },
  {
   "cell_type": "markdown",
   "metadata": {},
   "source": [
    "## Validation data"
   ]
  },
  {
   "cell_type": "code",
   "execution_count": null,
   "metadata": {},
   "outputs": [],
   "source": [
    "df1,df2,df3 = PatJob.get_validation_data(100000197)\n",
    "print(len(df1), len(df2), len(df3))"
   ]
  },
  {
   "cell_type": "code",
   "execution_count": null,
   "metadata": {},
   "outputs": [],
   "source": [
    "df2.sort_values(by='LocationIDStack')"
   ]
  },
  {
   "cell_type": "markdown",
   "metadata": {},
   "source": [
    "# Create New Job "
   ]
  },
  {
   "cell_type": "code",
   "execution_count": null,
   "metadata": {},
   "outputs": [],
   "source": [
    "job_para = json.load(open('data/pat_job_test.json'))\n",
    "job_para['job_guid']=str(uuid.uuid4())\n",
    "\n",
    "job = PatJob(job_para)\n",
    "job.job_id"
   ]
  },
  {
   "cell_type": "markdown",
   "metadata": {},
   "source": [
    "# Process"
   ]
  },
  {
   "cell_type": "code",
   "execution_count": null,
   "metadata": {},
   "outputs": [],
   "source": [
    "job.perform_analysis()"
   ]
  },
  {
   "cell_type": "markdown",
   "metadata": {},
   "source": [
    "# Testing"
   ]
  },
  {
   "cell_type": "code",
   "execution_count": null,
   "metadata": {},
   "outputs": [],
   "source": [
    "\n",
    "import json\n",
    "import numpy as np\n",
    "import pandas as pd\n",
    "\n",
    "import pyodbc\n",
    "from bcpandas import SqlCreds, to_sql\n",
    "\n",
    "df = pd.read_csv('data/psold_aoi.csv')\n",
    "\n",
    "creds = SqlCreds(AppSettings.PAT_JOB_SVR, AppSettings.PAT_JOB_DB, AppSettings.PAT_JOB_USR, AppSettings.PAT_JOB_PWD)\n",
    "to_sql(df,'psold_aoi', creds, index=False, if_exists='append') "
   ]
  },
  {
   "cell_type": "code",
   "execution_count": null,
   "metadata": {},
   "outputs": [],
   "source": [
    "job_conn = f'''DRIVER={{SQL Server}};Server={AppSettings.PAT_JOB_SVR};Database={AppSettings.PAT_JOB_DB};\n",
    "            User Id={AppSettings.PAT_JOB_USR};Password={AppSettings.PAT_JOB_PWD};\n",
    "            MultipleActiveResultSets=true;'''\n",
    "with pyodbc.connect(job_conn) as conn:\n",
    "             dfHPR = pd.read_sql_query(f\"\"\"select * from psold_hpr order by limit\"\"\", conn)\n",
    "dfHPR"
   ]
  },
  {
   "cell_type": "code",
   "execution_count": null,
   "metadata": {},
   "outputs": [],
   "source": [
    "select LocationIDStack,\n",
    "\tsum(case when job_id = 100000126 then premium else 0 end) as prem_with_spider,\n",
    "\tsum(case when job_id = 100000127 then premium else 0 end) as prem_wo_spider\n",
    "from pat_premium\n",
    "where job_id  in (100000126, 100000127)\n",
    "group by LocationIDStack"
   ]
  }
 ],
 "metadata": {
  "interpreter": {
   "hash": "127074f8ccc7e6be4e4813583b3c2191c4b36279ad1345c0e84a925cf005a6c8"
  },
  "kernelspec": {
   "display_name": "Python 3.8.8 64-bit ('premium-allocation-tool--jsZs_J2-py3.8': poetry)",
   "name": "python3"
  },
  "language_info": {
   "codemirror_mode": {
    "name": "ipython",
    "version": 3
   },
   "file_extension": ".py",
   "mimetype": "text/x-python",
   "name": "python",
   "nbconvert_exporter": "python",
   "pygments_lexer": "ipython3",
   "version": "3.8.8"
  }
 },
 "nbformat": 4,
 "nbformat_minor": 4
}
